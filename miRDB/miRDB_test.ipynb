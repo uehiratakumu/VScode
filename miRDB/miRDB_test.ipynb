{
 "cells": [
  {
   "cell_type": "code",
   "execution_count": 1,
   "metadata": {},
   "outputs": [
    {
     "name": "stderr",
     "output_type": "stream",
     "text": [
      "The chromedriver version (118.0.5993.70) detected in PATH at /Users/takumu/VScode/.venv/lib/python3.9/site-packages/chromedriver_binary/chromedriver might not be compatible with the detected chrome version (119.0.6045.159); currently, chromedriver 119.0.6045.105 is recommended for chrome 119.*, so it is advised to delete the driver in PATH and retry\n"
     ]
    }
   ],
   "source": [
    "# 必要なライブラリのインポート\n",
    "import lxml\n",
    "from bs4 import BeautifulSoup\n",
    "from selenium import webdriver\n",
    "import chromedriver_binary\n",
    "import time\n",
    "from selenium.webdriver.common.by import By\n",
    "from selenium.webdriver.common.keys import Keys\n",
    "import pandas as pd\n",
    "from selenium.webdriver.chrome.options import Options\n",
    "\n",
    "# 警告の非表示\n",
    "import warnings\n",
    "warnings.filterwarnings('ignore')\n",
    "\n",
    "# Chromeのオプション設定\n",
    "options = Options()\n",
    "options.add_argument('--headless')  # ヘッドレスモード（ブラウザのUIなしで動作）\n",
    "driver = webdriver.Chrome(options=options)  # オプションを使用してChromeドライバーを起動\n",
    "\n",
    "# 検索する遺伝子のリスト\n",
    "gene_keys = [\"SOST\",\"Tnfsf11\"]\n",
    "\n",
    "# miRDBのURL\n",
    "url = 'http://www.mirdb.org/index.html' "
   ]
  },
  {
   "cell_type": "code",
   "execution_count": 2,
   "metadata": {},
   "outputs": [
    {
     "ename": "WebDriverException",
     "evalue": "Message: unknown error: result.webdriverValue.value list is missing or empty in Runtime.callFunctionOn response\n  (Session info: headless chrome=119.0.6045.159)\nStacktrace:\n0   chromedriver                        0x00000001029e8e08 chromedriver + 5025288\n1   chromedriver                        0x00000001029dfc23 chromedriver + 4987939\n2   chromedriver                        0x0000000102581e67 chromedriver + 409191\n3   chromedriver                        0x0000000102587c2b chromedriver + 433195\n4   chromedriver                        0x000000010258a6c4 chromedriver + 444100\n5   chromedriver                        0x000000010258a80c chromedriver + 444428\n6   chromedriver                        0x00000001025d0fc7 chromedriver + 733127\n7   chromedriver                        0x00000001025d1371 chromedriver + 734065\n8   chromedriver                        0x0000000102617194 chromedriver + 1020308\n9   chromedriver                        0x00000001025f850d chromedriver + 894221\n10  chromedriver                        0x0000000102614571 chromedriver + 1009009\n11  chromedriver                        0x00000001025f82b3 chromedriver + 893619\n12  chromedriver                        0x00000001025c2eb9 chromedriver + 675513\n13  chromedriver                        0x00000001025c40ee chromedriver + 680174\n14  chromedriver                        0x00000001029aa819 chromedriver + 4769817\n15  chromedriver                        0x00000001029af893 chromedriver + 4790419\n16  chromedriver                        0x00000001029b666e chromedriver + 4818542\n17  chromedriver                        0x00000001029b05bd chromedriver + 4793789\n18  chromedriver                        0x000000010298298c chromedriver + 4606348\n19  chromedriver                        0x00000001029ceb78 chromedriver + 4918136\n20  chromedriver                        0x00000001029ced30 chromedriver + 4918576\n21  chromedriver                        0x00000001029df85e chromedriver + 4986974\n22  libsystem_pthread.dylib             0x00007ff8019cb1d3 _pthread_start + 125\n23  libsystem_pthread.dylib             0x00007ff8019c6bd3 thread_start + 15\n",
     "output_type": "error",
     "traceback": [
      "\u001b[0;31m---------------------------------------------------------------------------\u001b[0m",
      "\u001b[0;31mWebDriverException\u001b[0m                        Traceback (most recent call last)",
      "\u001b[1;32m/Users/takumu/VScode/VScode/miRDB/miRDB_test.ipynb セル 2\u001b[0m line \u001b[0;36m8\n\u001b[1;32m      <a href='vscode-notebook-cell:/Users/takumu/VScode/VScode/miRDB/miRDB_test.ipynb#W1sZmlsZQ%3D%3D?line=4'>5</a>\u001b[0m time\u001b[39m.\u001b[39msleep(\u001b[39m0.5\u001b[39m)  \u001b[39m# 1秒待機\u001b[39;00m\n\u001b[1;32m      <a href='vscode-notebook-cell:/Users/takumu/VScode/VScode/miRDB/miRDB_test.ipynb#W1sZmlsZQ%3D%3D?line=6'>7</a>\u001b[0m \u001b[39m# 種の選択（ここではmouseを選択）\u001b[39;00m\n\u001b[0;32m----> <a href='vscode-notebook-cell:/Users/takumu/VScode/VScode/miRDB/miRDB_test.ipynb#W1sZmlsZQ%3D%3D?line=7'>8</a>\u001b[0m species_select \u001b[39m=\u001b[39m driver\u001b[39m.\u001b[39;49mfind_element(By\u001b[39m.\u001b[39;49mCSS_SELECTOR, \u001b[39m\"\u001b[39;49m\u001b[39m#table2 > tbody > tr:nth-child(4) > td > form > p > select:nth-child(1) > option:nth-child(2)\u001b[39;49m\u001b[39m\"\u001b[39;49m)\n\u001b[1;32m      <a href='vscode-notebook-cell:/Users/takumu/VScode/VScode/miRDB/miRDB_test.ipynb#W1sZmlsZQ%3D%3D?line=8'>9</a>\u001b[0m species_select\u001b[39m.\u001b[39mclick()\n\u001b[1;32m     <a href='vscode-notebook-cell:/Users/takumu/VScode/VScode/miRDB/miRDB_test.ipynb#W1sZmlsZQ%3D%3D?line=10'>11</a>\u001b[0m \u001b[39m# 遺伝子名を入力\u001b[39;00m\n",
      "File \u001b[0;32m~/VScode/.venv/lib/python3.9/site-packages/selenium/webdriver/remote/webdriver.py:738\u001b[0m, in \u001b[0;36mWebDriver.find_element\u001b[0;34m(self, by, value)\u001b[0m\n\u001b[1;32m    735\u001b[0m     by \u001b[39m=\u001b[39m By\u001b[39m.\u001b[39mCSS_SELECTOR\n\u001b[1;32m    736\u001b[0m     value \u001b[39m=\u001b[39m \u001b[39mf\u001b[39m\u001b[39m'\u001b[39m\u001b[39m[name=\u001b[39m\u001b[39m\"\u001b[39m\u001b[39m{\u001b[39;00mvalue\u001b[39m}\u001b[39;00m\u001b[39m\"\u001b[39m\u001b[39m]\u001b[39m\u001b[39m'\u001b[39m\n\u001b[0;32m--> 738\u001b[0m \u001b[39mreturn\u001b[39;00m \u001b[39mself\u001b[39;49m\u001b[39m.\u001b[39;49mexecute(Command\u001b[39m.\u001b[39;49mFIND_ELEMENT, {\u001b[39m\"\u001b[39;49m\u001b[39musing\u001b[39;49m\u001b[39m\"\u001b[39;49m: by, \u001b[39m\"\u001b[39;49m\u001b[39mvalue\u001b[39;49m\u001b[39m\"\u001b[39;49m: value})[\u001b[39m\"\u001b[39m\u001b[39mvalue\u001b[39m\u001b[39m\"\u001b[39m]\n",
      "File \u001b[0;32m~/VScode/.venv/lib/python3.9/site-packages/selenium/webdriver/remote/webdriver.py:344\u001b[0m, in \u001b[0;36mWebDriver.execute\u001b[0;34m(self, driver_command, params)\u001b[0m\n\u001b[1;32m    342\u001b[0m response \u001b[39m=\u001b[39m \u001b[39mself\u001b[39m\u001b[39m.\u001b[39mcommand_executor\u001b[39m.\u001b[39mexecute(driver_command, params)\n\u001b[1;32m    343\u001b[0m \u001b[39mif\u001b[39;00m response:\n\u001b[0;32m--> 344\u001b[0m     \u001b[39mself\u001b[39;49m\u001b[39m.\u001b[39;49merror_handler\u001b[39m.\u001b[39;49mcheck_response(response)\n\u001b[1;32m    345\u001b[0m     response[\u001b[39m\"\u001b[39m\u001b[39mvalue\u001b[39m\u001b[39m\"\u001b[39m] \u001b[39m=\u001b[39m \u001b[39mself\u001b[39m\u001b[39m.\u001b[39m_unwrap_value(response\u001b[39m.\u001b[39mget(\u001b[39m\"\u001b[39m\u001b[39mvalue\u001b[39m\u001b[39m\"\u001b[39m, \u001b[39mNone\u001b[39;00m))\n\u001b[1;32m    346\u001b[0m     \u001b[39mreturn\u001b[39;00m response\n",
      "File \u001b[0;32m~/VScode/.venv/lib/python3.9/site-packages/selenium/webdriver/remote/errorhandler.py:229\u001b[0m, in \u001b[0;36mErrorHandler.check_response\u001b[0;34m(self, response)\u001b[0m\n\u001b[1;32m    227\u001b[0m         alert_text \u001b[39m=\u001b[39m value[\u001b[39m\"\u001b[39m\u001b[39malert\u001b[39m\u001b[39m\"\u001b[39m]\u001b[39m.\u001b[39mget(\u001b[39m\"\u001b[39m\u001b[39mtext\u001b[39m\u001b[39m\"\u001b[39m)\n\u001b[1;32m    228\u001b[0m     \u001b[39mraise\u001b[39;00m exception_class(message, screen, stacktrace, alert_text)  \u001b[39m# type: ignore[call-arg]  # mypy is not smart enough here\u001b[39;00m\n\u001b[0;32m--> 229\u001b[0m \u001b[39mraise\u001b[39;00m exception_class(message, screen, stacktrace)\n",
      "\u001b[0;31mWebDriverException\u001b[0m: Message: unknown error: result.webdriverValue.value list is missing or empty in Runtime.callFunctionOn response\n  (Session info: headless chrome=119.0.6045.159)\nStacktrace:\n0   chromedriver                        0x00000001029e8e08 chromedriver + 5025288\n1   chromedriver                        0x00000001029dfc23 chromedriver + 4987939\n2   chromedriver                        0x0000000102581e67 chromedriver + 409191\n3   chromedriver                        0x0000000102587c2b chromedriver + 433195\n4   chromedriver                        0x000000010258a6c4 chromedriver + 444100\n5   chromedriver                        0x000000010258a80c chromedriver + 444428\n6   chromedriver                        0x00000001025d0fc7 chromedriver + 733127\n7   chromedriver                        0x00000001025d1371 chromedriver + 734065\n8   chromedriver                        0x0000000102617194 chromedriver + 1020308\n9   chromedriver                        0x00000001025f850d chromedriver + 894221\n10  chromedriver                        0x0000000102614571 chromedriver + 1009009\n11  chromedriver                        0x00000001025f82b3 chromedriver + 893619\n12  chromedriver                        0x00000001025c2eb9 chromedriver + 675513\n13  chromedriver                        0x00000001025c40ee chromedriver + 680174\n14  chromedriver                        0x00000001029aa819 chromedriver + 4769817\n15  chromedriver                        0x00000001029af893 chromedriver + 4790419\n16  chromedriver                        0x00000001029b666e chromedriver + 4818542\n17  chromedriver                        0x00000001029b05bd chromedriver + 4793789\n18  chromedriver                        0x000000010298298c chromedriver + 4606348\n19  chromedriver                        0x00000001029ceb78 chromedriver + 4918136\n20  chromedriver                        0x00000001029ced30 chromedriver + 4918576\n21  chromedriver                        0x00000001029df85e chromedriver + 4986974\n22  libsystem_pthread.dylib             0x00007ff8019cb1d3 _pthread_start + 125\n23  libsystem_pthread.dylib             0x00007ff8019c6bd3 thread_start + 15\n"
     ]
    }
   ],
   "source": [
    "# 遺伝子のリストの長さに応じてループ処理\n",
    "for i in range(len(gene_keys)):\n",
    "    driver.get(url)  # miRDBにアクセス\n",
    "\n",
    "    time.sleep(0.5)  # 1秒待機\n",
    "\n",
    "    # 種の選択（ここではmouseを選択）\n",
    "    species_select = driver.find_element(By.CSS_SELECTOR, \"#table2 > tbody > tr:nth-child(4) > td > form > p > select:nth-child(1) > option:nth-child(2)\")\n",
    "    species_select.click()\n",
    "\n",
    "    # 遺伝子名を入力\n",
    "    gene_input = driver.find_element(By.CSS_SELECTOR, \"#table2 > tbody > tr:nth-child(4) > td > form > p > input[type=text]:nth-child(3)\")\n",
    "    gene_input.send_keys(gene_keys[i])\n",
    "\n",
    "    # GOボタンをクリックして検索を実行\n",
    "    go_push = driver.find_element(By.CSS_SELECTOR, \"#table2 > tbody > tr:nth-child(4) > td > form > p > input[type=submit]:nth-child(4)\")\n",
    "    go_push.click()\n",
    "\n",
    "    time.sleep(0.5)  # 2秒待機\n",
    "\n",
    "    # ページのソースを取得\n",
    "    html_resource = driver.page_source\n",
    "\n",
    "    # BeautifulSoupでHTMLを解析\n",
    "    soup = BeautifulSoup(html_resource, \"html.parser\") \n",
    "    table = soup.find(id=\"table1\")  # table1というIDを持つテーブルを探す\n",
    "\n",
    "    # pandasを使用してHTMLテーブルをデータフレームに変換\n",
    "    dfs = pd.read_html(str(table))\n",
    "    df = dfs[0].iloc[1:dfs[0].shape[0]]\n",
    "    df.columns= dfs[0].iloc[0]\n",
    "    df.drop([\"Target Detail\"], axis=1, inplace=True)\n",
    "    \n",
    "    # 遺伝子名とデータフレームの先頭部分を表示\n",
    "    print(gene_keys[i])\n",
    "    display(df.head())\n",
    "    csv_path = \"/Users/takumu/VScode/VScode/miRDB/\" +gene_keys[i] + \".csv\"\n",
    "    df.to_csv(csv_path, index=False)\n",
    "\n",
    "# ブラウザを終了\n",
    "driver.quit()\n"
   ]
  }
 ],
 "metadata": {
  "kernelspec": {
   "display_name": ".venv",
   "language": "python",
   "name": "python3"
  },
  "language_info": {
   "codemirror_mode": {
    "name": "ipython",
    "version": 3
   },
   "file_extension": ".py",
   "mimetype": "text/x-python",
   "name": "python",
   "nbconvert_exporter": "python",
   "pygments_lexer": "ipython3",
   "version": "3.9.6"
  }
 },
 "nbformat": 4,
 "nbformat_minor": 2
}
