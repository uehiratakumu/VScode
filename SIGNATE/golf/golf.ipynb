{
 "cells": [
  {
   "cell_type": "code",
   "execution_count": 75,
   "metadata": {},
   "outputs": [],
   "source": [
    "import pandas as pd\n",
    "import numpy as np\n",
    "\n",
    "golf_2022 = pd.read_csv(\"2022_golf.csv\",names=['sex','age', 'golf_out','golf_in'])\n",
    "golf_2021 = pd.read_csv(\"2021_golf.csv\",names=['sex','age' ,'golf_out','golf_in'])"
   ]
  },
  {
   "cell_type": "code",
   "execution_count": 97,
   "metadata": {},
   "outputs": [
    {
     "name": "stdout",
     "output_type": "stream",
     "text": [
      "<class 'pandas.core.frame.DataFrame'>\n",
      "RangeIndex: 20000 entries, 0 to 19999\n",
      "Data columns (total 5 columns):\n",
      " #   Column     Non-Null Count  Dtype\n",
      "---  ------     --------------  -----\n",
      " 0   sex        20000 non-null  int64\n",
      " 1   age        20000 non-null  int64\n",
      " 2   golf_out   20000 non-null  int64\n",
      " 3   golf_in    20000 non-null  int64\n",
      " 4   age_group  20000 non-null  int64\n",
      "dtypes: int64(5)\n",
      "memory usage: 781.4 KB\n"
     ]
    }
   ],
   "source": [
    "golf_2021[\"age_group\"]=golf_2021[\"age_group\"].astype(\"int64\")\n",
    "golf_2021.info()"
   ]
  },
  {
   "cell_type": "code",
   "execution_count": 98,
   "metadata": {},
   "outputs": [
    {
     "data": {
      "text/html": [
       "<div>\n",
       "<style scoped>\n",
       "    .dataframe tbody tr th:only-of-type {\n",
       "        vertical-align: middle;\n",
       "    }\n",
       "\n",
       "    .dataframe tbody tr th {\n",
       "        vertical-align: top;\n",
       "    }\n",
       "\n",
       "    .dataframe thead th {\n",
       "        text-align: right;\n",
       "    }\n",
       "</style>\n",
       "<table border=\"1\" class=\"dataframe\">\n",
       "  <thead>\n",
       "    <tr style=\"text-align: right;\">\n",
       "      <th></th>\n",
       "      <th>sex</th>\n",
       "      <th>age</th>\n",
       "      <th>golf_out</th>\n",
       "      <th>golf_in</th>\n",
       "      <th>age_group</th>\n",
       "    </tr>\n",
       "  </thead>\n",
       "  <tbody>\n",
       "    <tr>\n",
       "      <th>count</th>\n",
       "      <td>20000.000000</td>\n",
       "      <td>20000.000000</td>\n",
       "      <td>20000.000000</td>\n",
       "      <td>20000.000000</td>\n",
       "      <td>20000.000000</td>\n",
       "    </tr>\n",
       "    <tr>\n",
       "      <th>mean</th>\n",
       "      <td>1.502050</td>\n",
       "      <td>49.715650</td>\n",
       "      <td>0.061650</td>\n",
       "      <td>0.055900</td>\n",
       "      <td>2.160000</td>\n",
       "    </tr>\n",
       "    <tr>\n",
       "      <th>std</th>\n",
       "      <td>0.500008</td>\n",
       "      <td>16.370449</td>\n",
       "      <td>0.240525</td>\n",
       "      <td>0.229734</td>\n",
       "      <td>0.730429</td>\n",
       "    </tr>\n",
       "    <tr>\n",
       "      <th>min</th>\n",
       "      <td>1.000000</td>\n",
       "      <td>18.000000</td>\n",
       "      <td>0.000000</td>\n",
       "      <td>0.000000</td>\n",
       "      <td>0.000000</td>\n",
       "    </tr>\n",
       "    <tr>\n",
       "      <th>25%</th>\n",
       "      <td>1.000000</td>\n",
       "      <td>36.000000</td>\n",
       "      <td>0.000000</td>\n",
       "      <td>0.000000</td>\n",
       "      <td>2.000000</td>\n",
       "    </tr>\n",
       "    <tr>\n",
       "      <th>50%</th>\n",
       "      <td>2.000000</td>\n",
       "      <td>50.000000</td>\n",
       "      <td>0.000000</td>\n",
       "      <td>0.000000</td>\n",
       "      <td>2.000000</td>\n",
       "    </tr>\n",
       "    <tr>\n",
       "      <th>75%</th>\n",
       "      <td>2.000000</td>\n",
       "      <td>63.000000</td>\n",
       "      <td>0.000000</td>\n",
       "      <td>0.000000</td>\n",
       "      <td>3.000000</td>\n",
       "    </tr>\n",
       "    <tr>\n",
       "      <th>max</th>\n",
       "      <td>2.000000</td>\n",
       "      <td>79.000000</td>\n",
       "      <td>1.000000</td>\n",
       "      <td>1.000000</td>\n",
       "      <td>3.000000</td>\n",
       "    </tr>\n",
       "  </tbody>\n",
       "</table>\n",
       "</div>"
      ],
      "text/plain": [
       "                sex           age      golf_out       golf_in     age_group\n",
       "count  20000.000000  20000.000000  20000.000000  20000.000000  20000.000000\n",
       "mean       1.502050     49.715650      0.061650      0.055900      2.160000\n",
       "std        0.500008     16.370449      0.240525      0.229734      0.730429\n",
       "min        1.000000     18.000000      0.000000      0.000000      0.000000\n",
       "25%        1.000000     36.000000      0.000000      0.000000      2.000000\n",
       "50%        2.000000     50.000000      0.000000      0.000000      2.000000\n",
       "75%        2.000000     63.000000      0.000000      0.000000      3.000000\n",
       "max        2.000000     79.000000      1.000000      1.000000      3.000000"
      ]
     },
     "execution_count": 98,
     "metadata": {},
     "output_type": "execute_result"
    }
   ],
   "source": [
    "golf_2021.describe()"
   ]
  },
  {
   "cell_type": "code",
   "execution_count": 92,
   "metadata": {},
   "outputs": [],
   "source": [
    "golf_2022[\"age_group\"] = pd.cut(golf_2022[\"age\"], bins=[0,19, 29, 59, 80], labels=[0, 1, 2,3])\n",
    "golf_2021[\"age_group\"] = pd.cut(golf_2021[\"age\"], bins=[0,19, 29, 59, 80], labels=[0, 1, 2,3])"
   ]
  },
  {
   "cell_type": "code",
   "execution_count": 33,
   "metadata": {},
   "outputs": [
    {
     "name": "stdout",
     "output_type": "stream",
     "text": [
      "20000\n",
      "40000\n"
     ]
    }
   ],
   "source": [
    "print(len(golf_2021))\n",
    "print(len(golf_2022))"
   ]
  },
  {
   "cell_type": "code",
   "execution_count": 119,
   "metadata": {},
   "outputs": [],
   "source": [
    "n_2021 = int(930.6*10000/len(golf_2021))\n",
    "n_2022 = int(922.7*10000/len(golf_2022))\n"
   ]
  },
  {
   "cell_type": "code",
   "execution_count": 120,
   "metadata": {},
   "outputs": [
    {
     "data": {
      "text/plain": [
       "496340"
      ]
     },
     "execution_count": 120,
     "metadata": {},
     "output_type": "execute_result"
    }
   ],
   "source": [
    "len(golf_2022[\"golf_in\"][(golf_2022[\"golf_in\"]==1 )])*n_2022"
   ]
  },
  {
   "cell_type": "code",
   "execution_count": 114,
   "metadata": {},
   "outputs": [
    {
     "data": {
      "text/plain": [
       "561015"
      ]
     },
     "execution_count": 114,
     "metadata": {},
     "output_type": "execute_result"
    }
   ],
   "source": [
    "len(golf_2021[\"golf_in\"][(golf_2021[\"golf_out\"]==1 )])*n_2021"
   ]
  },
  {
   "cell_type": "code",
   "execution_count": 115,
   "metadata": {},
   "outputs": [
    {
     "data": {
      "text/plain": [
       "9.230840237232593"
      ]
     },
     "execution_count": 115,
     "metadata": {},
     "output_type": "execute_result"
    }
   ],
   "source": [
    "h_2021 = 5600000/(len(golf_2022[\"golf_in\"][(golf_2022[\"golf_out\"]==1 )])*n_2022)\n",
    "h_2021"
   ]
  },
  {
   "cell_type": "code",
   "execution_count": 82,
   "metadata": {},
   "outputs": [
    {
     "data": {
      "text/plain": [
       "10.508322591492462"
      ]
     },
     "execution_count": 82,
     "metadata": {},
     "output_type": "execute_result"
    }
   ],
   "source": [
    "h_2022 = 6000000/(len(golf_2022[\"golf_in\"][(golf_2022[\"golf_out\"]==1 )])*n_2022)\n",
    "h_2022"
   ]
  },
  {
   "cell_type": "code",
   "execution_count": 144,
   "metadata": {},
   "outputs": [
    {
     "data": {
      "text/plain": [
       "[0.0032441200324412004,\n",
       " 0.058394160583941604,\n",
       " 0.3909164639091646,\n",
       " 0.38929440389294406]"
      ]
     },
     "execution_count": 144,
     "metadata": {},
     "output_type": "execute_result"
    }
   ],
   "source": [
    "man_2021 = []\n",
    "for i in range(4):\n",
    "    l = len(golf_2021[\"golf_in\"][(golf_2021[\"golf_out\"]==1 )& (golf_2021[\"age_group\"]==i)&(golf_2021[\"sex\"]==1)])/len(golf_2021[\"golf_in\"][golf_2021[\"golf_out\"]==1] )\n",
    "    man_2021.append(l)\n",
    "man_2021"
   ]
  },
  {
   "cell_type": "code",
   "execution_count": 139,
   "metadata": {},
   "outputs": [
    {
     "data": {
      "text/plain": [
       "[0.0008110300081103001,\n",
       " 0.0170316301703163,\n",
       " 0.06001622060016221,\n",
       " 0.08029197080291971]"
      ]
     },
     "execution_count": 139,
     "metadata": {},
     "output_type": "execute_result"
    }
   ],
   "source": [
    "woman_2021 = []\n",
    "for i in range(4):\n",
    "    l = len(golf_2021[\"golf_in\"][(golf_2021[\"golf_out\"]==1 )& (golf_2021[\"age_group\"]==i)&(golf_2021[\"sex\"]==2)])/len(golf_2021[\"golf_in\"][golf_2021[\"golf_out\"]==1] )\n",
    "    woman_2021.append(l)\n",
    "woman_2021"
   ]
  },
  {
   "cell_type": "code",
   "execution_count": 140,
   "metadata": {},
   "outputs": [
    {
     "data": {
      "text/plain": [
       "[0.001569242840329541,\n",
       " 0.01569242840329541,\n",
       " 0.0584542958022754,\n",
       " 0.06590819929384072]"
      ]
     },
     "execution_count": 140,
     "metadata": {},
     "output_type": "execute_result"
    }
   ],
   "source": [
    "woman_2022 = []\n",
    "for i in range(4):\n",
    "    l = len(golf_2022[\"golf_in\"][(golf_2022[\"golf_out\"]==1 )& (golf_2022[\"age_group\"]==i)&(golf_2022[\"sex\"]==2)])/len(golf_2022[\"golf_in\"][golf_2022[\"golf_out\"]==1] )\n",
    "    woman_2022.append(l)\n",
    "woman_2022"
   ]
  },
  {
   "cell_type": "code",
   "execution_count": 150,
   "metadata": {},
   "outputs": [
    {
     "data": {
      "text/plain": [
       "[0.001961553550411926,\n",
       " 0.07296979207532366,\n",
       " 0.38524911730090233,\n",
       " 0.39819537073362105]"
      ]
     },
     "execution_count": 150,
     "metadata": {},
     "output_type": "execute_result"
    }
   ],
   "source": [
    "man_2022 = []\n",
    "for i in range(4):\n",
    "    l = len(golf_2022[\"golf_in\"][(golf_2022[\"golf_out\"]==1 )& (golf_2022[\"age_group\"]==i)&(golf_2022[\"sex\"]==1)])/len(golf_2022[\"golf_in\"][golf_2022[\"golf_out\"]==1] )\n",
    "    man_2022.append(l)\n",
    "man_2022"
   ]
  },
  {
   "cell_type": "code",
   "execution_count": 153,
   "metadata": {},
   "outputs": [],
   "source": [
    "golf = pd.DataFrame(man_2021, columns = [\"2021_man_out\"],index=['18-19', '20-39', '40-59','60-79'])\n",
    "golf[\"2021_woman_out\"] =woman_2021\n",
    "golf[\"2022_man_out\"] = man_2022\n",
    "golf[\"2022_woman_out\"] = woman_2022"
   ]
  },
  {
   "cell_type": "code",
   "execution_count": 154,
   "metadata": {},
   "outputs": [
    {
     "data": {
      "text/html": [
       "<div>\n",
       "<style scoped>\n",
       "    .dataframe tbody tr th:only-of-type {\n",
       "        vertical-align: middle;\n",
       "    }\n",
       "\n",
       "    .dataframe tbody tr th {\n",
       "        vertical-align: top;\n",
       "    }\n",
       "\n",
       "    .dataframe thead th {\n",
       "        text-align: right;\n",
       "    }\n",
       "</style>\n",
       "<table border=\"1\" class=\"dataframe\">\n",
       "  <thead>\n",
       "    <tr style=\"text-align: right;\">\n",
       "      <th></th>\n",
       "      <th>2021_man_out</th>\n",
       "      <th>2021_woman_out</th>\n",
       "      <th>2022_man_out</th>\n",
       "      <th>2022_woman_out</th>\n",
       "    </tr>\n",
       "  </thead>\n",
       "  <tbody>\n",
       "    <tr>\n",
       "      <th>18-19</th>\n",
       "      <td>0.003244</td>\n",
       "      <td>0.000811</td>\n",
       "      <td>0.001962</td>\n",
       "      <td>0.001569</td>\n",
       "    </tr>\n",
       "    <tr>\n",
       "      <th>20-39</th>\n",
       "      <td>0.058394</td>\n",
       "      <td>0.017032</td>\n",
       "      <td>0.072970</td>\n",
       "      <td>0.015692</td>\n",
       "    </tr>\n",
       "    <tr>\n",
       "      <th>40-59</th>\n",
       "      <td>0.390916</td>\n",
       "      <td>0.060016</td>\n",
       "      <td>0.385249</td>\n",
       "      <td>0.058454</td>\n",
       "    </tr>\n",
       "    <tr>\n",
       "      <th>60-79</th>\n",
       "      <td>0.389294</td>\n",
       "      <td>0.080292</td>\n",
       "      <td>0.398195</td>\n",
       "      <td>0.065908</td>\n",
       "    </tr>\n",
       "  </tbody>\n",
       "</table>\n",
       "</div>"
      ],
      "text/plain": [
       "       2021_man_out  2021_woman_out  2022_man_out  2022_woman_out\n",
       "18-19      0.003244        0.000811      0.001962        0.001569\n",
       "20-39      0.058394        0.017032      0.072970        0.015692\n",
       "40-59      0.390916        0.060016      0.385249        0.058454\n",
       "60-79      0.389294        0.080292      0.398195        0.065908"
      ]
     },
     "execution_count": 154,
     "metadata": {},
     "output_type": "execute_result"
    }
   ],
   "source": [
    "golf.head()"
   ]
  },
  {
   "cell_type": "code",
   "execution_count": 155,
   "metadata": {},
   "outputs": [
    {
     "data": {
      "text/plain": [
       "[0.005097312326227989,\n",
       " 0.09221501390176089,\n",
       " 0.38785912882298423,\n",
       " 0.3405931417979611]"
      ]
     },
     "execution_count": 155,
     "metadata": {},
     "output_type": "execute_result"
    }
   ],
   "source": [
    "man_2022_in = []\n",
    "for i in range(4):\n",
    "    l = len(golf_2022[\"golf_in\"][(golf_2022[\"golf_in\"]==1 )& (golf_2022[\"age_group\"]==i)&(golf_2022[\"sex\"]==1)])/len(golf_2022[\"golf_in\"][golf_2022[\"golf_in\"]==1] )\n",
    "    man_2022_in.append(l)\n",
    "man_2022_in"
   ]
  },
  {
   "cell_type": "code",
   "execution_count": 156,
   "metadata": {},
   "outputs": [
    {
     "data": {
      "text/plain": [
       "[0.008050089445438283,\n",
       " 0.0885509838998211,\n",
       " 0.3810375670840787,\n",
       " 0.3443649373881932]"
      ]
     },
     "execution_count": 156,
     "metadata": {},
     "output_type": "execute_result"
    }
   ],
   "source": [
    "man_2021_in = []\n",
    "for i in range(4):\n",
    "    l = len(golf_2021[\"golf_in\"][(golf_2021[\"golf_in\"]==1 )& (golf_2021[\"age_group\"]==i)&(golf_2021[\"sex\"]==1)])/len(golf_2021[\"golf_in\"][golf_2021[\"golf_in\"]==1] )\n",
    "    man_2021_in.append(l)\n",
    "man_2021_in"
   ]
  },
  {
   "cell_type": "code",
   "execution_count": 157,
   "metadata": {},
   "outputs": [
    {
     "data": {
      "text/plain": [
       "[0.0026833631484794273,\n",
       " 0.027728085867620753,\n",
       " 0.09838998211091235,\n",
       " 0.049194991055456175]"
      ]
     },
     "execution_count": 157,
     "metadata": {},
     "output_type": "execute_result"
    }
   ],
   "source": [
    "woman_2021_in = []\n",
    "for i in range(4):\n",
    "    l = len(golf_2021[\"golf_in\"][(golf_2021[\"golf_in\"]==1 )& (golf_2021[\"age_group\"]==i)&(golf_2021[\"sex\"]==2)])/len(golf_2021[\"golf_in\"][golf_2021[\"golf_in\"]==1] )\n",
    "    woman_2021_in.append(l)\n",
    "woman_2021_in"
   ]
  },
  {
   "cell_type": "code",
   "execution_count": 158,
   "metadata": {},
   "outputs": [
    {
     "data": {
      "text/plain": [
       "[0.003243744207599629,\n",
       " 0.028730305838739572,\n",
       " 0.08665430954587582,\n",
       " 0.05560704355885079]"
      ]
     },
     "execution_count": 158,
     "metadata": {},
     "output_type": "execute_result"
    }
   ],
   "source": [
    "woman_2022_in = []\n",
    "for i in range(4):\n",
    "    l = len(golf_2022[\"golf_in\"][(golf_2022[\"golf_in\"]==1 )& (golf_2022[\"age_group\"]==i)&(golf_2022[\"sex\"]==2)])/len(golf_2022[\"golf_in\"][golf_2022[\"golf_in\"]==1] )\n",
    "    woman_2022_in.append(l)\n",
    "woman_2022_in"
   ]
  },
  {
   "cell_type": "code",
   "execution_count": 159,
   "metadata": {},
   "outputs": [],
   "source": [
    "golf[\"2021_man_in\"] =man_2021_in\n",
    "golf[\"2021_woman_in\"] =woman_2021_in\n",
    "golf[\"2022_man_in\"] = man_2022_in\n",
    "golf[\"2022_woman_in\"] = woman_2022_in"
   ]
  },
  {
   "cell_type": "code",
   "execution_count": 160,
   "metadata": {},
   "outputs": [
    {
     "data": {
      "text/html": [
       "<div>\n",
       "<style scoped>\n",
       "    .dataframe tbody tr th:only-of-type {\n",
       "        vertical-align: middle;\n",
       "    }\n",
       "\n",
       "    .dataframe tbody tr th {\n",
       "        vertical-align: top;\n",
       "    }\n",
       "\n",
       "    .dataframe thead th {\n",
       "        text-align: right;\n",
       "    }\n",
       "</style>\n",
       "<table border=\"1\" class=\"dataframe\">\n",
       "  <thead>\n",
       "    <tr style=\"text-align: right;\">\n",
       "      <th></th>\n",
       "      <th>2021_man_out</th>\n",
       "      <th>2021_woman_out</th>\n",
       "      <th>2022_man_out</th>\n",
       "      <th>2022_woman_out</th>\n",
       "      <th>2021_man_in</th>\n",
       "      <th>2021_woman_in</th>\n",
       "      <th>2022_man_in</th>\n",
       "      <th>2022_woman_in</th>\n",
       "    </tr>\n",
       "  </thead>\n",
       "  <tbody>\n",
       "    <tr>\n",
       "      <th>18-19</th>\n",
       "      <td>0.003244</td>\n",
       "      <td>0.000811</td>\n",
       "      <td>0.001962</td>\n",
       "      <td>0.001569</td>\n",
       "      <td>0.008050</td>\n",
       "      <td>0.002683</td>\n",
       "      <td>0.005097</td>\n",
       "      <td>0.003244</td>\n",
       "    </tr>\n",
       "    <tr>\n",
       "      <th>20-39</th>\n",
       "      <td>0.058394</td>\n",
       "      <td>0.017032</td>\n",
       "      <td>0.072970</td>\n",
       "      <td>0.015692</td>\n",
       "      <td>0.088551</td>\n",
       "      <td>0.027728</td>\n",
       "      <td>0.092215</td>\n",
       "      <td>0.028730</td>\n",
       "    </tr>\n",
       "    <tr>\n",
       "      <th>40-59</th>\n",
       "      <td>0.390916</td>\n",
       "      <td>0.060016</td>\n",
       "      <td>0.385249</td>\n",
       "      <td>0.058454</td>\n",
       "      <td>0.381038</td>\n",
       "      <td>0.098390</td>\n",
       "      <td>0.387859</td>\n",
       "      <td>0.086654</td>\n",
       "    </tr>\n",
       "    <tr>\n",
       "      <th>60-79</th>\n",
       "      <td>0.389294</td>\n",
       "      <td>0.080292</td>\n",
       "      <td>0.398195</td>\n",
       "      <td>0.065908</td>\n",
       "      <td>0.344365</td>\n",
       "      <td>0.049195</td>\n",
       "      <td>0.340593</td>\n",
       "      <td>0.055607</td>\n",
       "    </tr>\n",
       "  </tbody>\n",
       "</table>\n",
       "</div>"
      ],
      "text/plain": [
       "       2021_man_out  2021_woman_out  2022_man_out  2022_woman_out  \\\n",
       "18-19      0.003244        0.000811      0.001962        0.001569   \n",
       "20-39      0.058394        0.017032      0.072970        0.015692   \n",
       "40-59      0.390916        0.060016      0.385249        0.058454   \n",
       "60-79      0.389294        0.080292      0.398195        0.065908   \n",
       "\n",
       "       2021_man_in  2021_woman_in  2022_man_in  2022_woman_in  \n",
       "18-19     0.008050       0.002683     0.005097       0.003244  \n",
       "20-39     0.088551       0.027728     0.092215       0.028730  \n",
       "40-59     0.381038       0.098390     0.387859       0.086654  \n",
       "60-79     0.344365       0.049195     0.340593       0.055607  "
      ]
     },
     "execution_count": 160,
     "metadata": {},
     "output_type": "execute_result"
    }
   ],
   "source": [
    "golf.head()"
   ]
  },
  {
   "cell_type": "code",
   "execution_count": 66,
   "metadata": {},
   "outputs": [
    {
     "data": {
      "text/plain": [
       "1998377"
      ]
     },
     "execution_count": 66,
     "metadata": {},
     "output_type": "execute_result"
    }
   ],
   "source": [
    "int(len(golf_2021[\"golf_in\"][(golf_2021[\"golf_in\"]==1 )& (golf_2021[\"age_group\"]==3)])*n_2021*h_2021)"
   ]
  },
  {
   "cell_type": "code",
   "execution_count": 89,
   "metadata": {},
   "outputs": [
    {
     "data": {
      "text/plain": [
       "5079639.074146724"
      ]
     },
     "execution_count": 89,
     "metadata": {},
     "output_type": "execute_result"
    }
   ],
   "source": [
    "len(golf_2022[\"golf_in\"][(golf_2022[\"golf_in\"]==1 )])*n_2022*h_2022"
   ]
  }
 ],
 "metadata": {
  "kernelspec": {
   "display_name": ".venv",
   "language": "python",
   "name": "python3"
  },
  "language_info": {
   "codemirror_mode": {
    "name": "ipython",
    "version": 3
   },
   "file_extension": ".py",
   "mimetype": "text/x-python",
   "name": "python",
   "nbconvert_exporter": "python",
   "pygments_lexer": "ipython3",
   "version": "3.9.6"
  },
  "orig_nbformat": 4
 },
 "nbformat": 4,
 "nbformat_minor": 2
}
