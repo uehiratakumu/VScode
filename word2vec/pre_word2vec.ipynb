{
 "cells": [
  {
   "cell_type": "code",
   "execution_count": 2,
   "metadata": {},
   "outputs": [
    {
     "name": "stdout",
     "output_type": "stream",
     "text": [
      "\n",
      "一\n",
      "　うとうととして目がさめると女はいつのまにか、隣のじいさんと話を始めている。このじいさんはたしかに前の前の駅から乗ったいなか者である。発車まぎわに頓狂な声を出して駆け込んで来て、いきなり肌をぬい\n",
      "\n",
      "\n",
      "評に取りかかる。与次郎だけが三四郎のそばへ来た。\n",
      "「どうだ森の女は」\n",
      "「森の女という題が悪い」\n",
      "「じゃ、なんとすればよいんだ」\n",
      "　三四郎はなんとも答えなかった。ただ口の中で迷羊、迷羊と繰り返した。\n",
      "\n",
      "\n"
     ]
    }
   ],
   "source": [
    "# zipファイルダウンロード\n",
    "url = 'https://www.aozora.gr.jp/cards/000148/files/794_ruby_4237.zip'\n",
    "zip = '794_ruby_4237.zip'\n",
    "import urllib.request\n",
    "urllib.request.urlretrieve(url, zip)\n",
    "\n",
    "# ダウンロードしたzipの解凍\n",
    "import zipfile\n",
    "with zipfile.ZipFile(zip, 'r') as myzip:\n",
    "    myzip.extractall()\n",
    "    # 解凍後のファイルからデータ読み込み\n",
    "    for myfile in myzip.infolist():\n",
    "        # 解凍後ファイル名取得\n",
    "        filename = myfile.filename\n",
    "        # ファイルオープン時にencodingを指定してsjisの変換をする\n",
    "        with open(filename, encoding='sjis') as file:\n",
    "            text = file.read()\n",
    "\n",
    "# ファイル整形\n",
    "import re\n",
    "# ヘッダ部分の除去\n",
    "text = re.split('\\-{5,}',text)[2]\n",
    "# フッタ部分の除去\n",
    "text = re.split('底本：',text)[0]\n",
    "# | の除去\n",
    "text = text.replace('|', '')\n",
    "# ルビの削除\n",
    "text = re.sub('《.+?》', '', text)\n",
    "# 入力注の削除\n",
    "text = re.sub('［＃.+?］', '',text)\n",
    "# 空行の削除\n",
    "text = re.sub('\\n\\n', '\\n', text) \n",
    "text = re.sub('\\r', '', text)\n",
    "\n",
    "# 整形結果確認\n",
    "\n",
    "# 頭の100文字の表示 \n",
    "print(text[:100])\n",
    "# 見やすくするため、空行 \n",
    "print()\n",
    "print()\n",
    "# 後ろの100文字の表示 \n",
    "print(text[-100:])\n"
   ]
  },
  {
   "cell_type": "code",
   "execution_count": 3,
   "metadata": {},
   "outputs": [
    {
     "name": "stdout",
     "output_type": "stream",
     "text": [
      "Successfully installed janome-0.5.0\n",
      "一\n",
      "する\n",
      "目\n",
      "さめる\n",
      "女\n",
      "隣\n",
      "じいさん\n",
      "話\n",
      "始める\n",
      "いる\n"
     ]
    }
   ],
   "source": [
    "# Janomeのインストール\n",
    "!pip install janome | tail -n 1\n",
    "\n",
    "# Janomeのロード\n",
    "from janome.tokenizer import Tokenizer\n",
    "\n",
    "# Tokenizerインスタンスの生成 \n",
    "t = Tokenizer()\n",
    "\n",
    "# テキストを引数として、形態素解析の結果、名詞・動詞・形容詞(原形)のみを配列で抽出する関数を定義 \n",
    "def extract_words(text):\n",
    "    tokens = t.tokenize(text)\n",
    "    return [token.base_form for token in tokens \n",
    "        if token.part_of_speech.split(',')[0] in['名詞', '動詞']]\n",
    "\n",
    "#  関数テスト\n",
    "# ret = extract_words('三四郎は京都でちょっと用があって降りたついでに。')\n",
    "# for word in ret:\n",
    "#    print(word)\n",
    "\n",
    "# 全体のテキストを句点('。')で区切った配列にする。 \n",
    "sentences = text.split('。')\n",
    "# それぞれの文章を単語リストに変換(処理に数分かかります)\n",
    "word_list = [extract_words(sentence) for sentence in sentences]\n",
    "\n",
    "# 結果の一部を確認 \n",
    "for word in word_list[0]:\n",
    "    print(word)\n"
   ]
  },
  {
   "cell_type": "code",
   "execution_count": 8,
   "metadata": {},
   "outputs": [
    {
     "name": "stdout",
     "output_type": "stream",
     "text": [
      "Requirement already satisfied: gensim in /Users/takumu/VScode/.venv/lib/python3.9/site-packages (4.3.2)\n",
      "Requirement already satisfied: numpy>=1.18.5 in /Users/takumu/VScode/.venv/lib/python3.9/site-packages (from gensim) (1.23.5)\n",
      "Requirement already satisfied: scipy>=1.7.0 in /Users/takumu/VScode/.venv/lib/python3.9/site-packages (from gensim) (1.10.0)\n",
      "Requirement already satisfied: smart-open>=1.8.1 in /Users/takumu/VScode/.venv/lib/python3.9/site-packages (from gensim) (6.4.0)\n"
     ]
    }
   ],
   "source": [
    "# Word2Vecライブラリの導入\n",
    "!pip install gensim  \n",
    "\n",
    "# Word2Vecライブラリのロード\n",
    "from gensim.models import Word2Vec\n",
    "\n",
    "# size: 圧縮次元数\n",
    "# min_count: 出現頻度の低いものをカットする\n",
    "# window: 前後の単語を拾う際の窓の広さを決める\n",
    "# iter: 機械学習の繰り返し回数(デフォルト:5)十分学習できていないときにこの値を調整する\n",
    "# model.wv.most_similarの結果が1に近いものばかりで、model.dict['wv']のベクトル値が小さい値ばかりの \n",
    "# ときは、学習回数が少ないと考えられます。\n",
    "# その場合、iterの値を大きくして、再度学習を行います。\n",
    "\n",
    "# 事前準備したword_listを使ってWord2Vecの学習実施\n",
    "\n",
    "# Word2Vecの学習\n",
    "model = Word2Vec(word_list, vector_size=100, min_count=5, window=5, epochs=100)\n",
    "\n"
   ]
  },
  {
   "cell_type": "code",
   "execution_count": 9,
   "metadata": {},
   "outputs": [
    {
     "name": "stdout",
     "output_type": "stream",
     "text": [
      "[-4.52727340e-02  4.81914937e-01  8.55659023e-02 -5.73488139e-02\n",
      " -3.78183007e-01 -5.85473001e-01  1.26435116e-01  2.63076276e-01\n",
      " -4.28592384e-01  1.33654878e-01  4.97842520e-01 -5.35521686e-01\n",
      "  1.66788518e-01  4.53067899e-01  6.66905046e-01  5.82169145e-02\n",
      " -4.45041060e-01 -1.23364680e-01  1.28373399e-01 -6.26604259e-01\n",
      " -9.47785258e-01  7.07497299e-01  6.34473145e-01 -1.20512748e+00\n",
      " -7.45042460e-04 -1.42308213e-02 -6.01802349e-01 -3.01979810e-01\n",
      " -1.28457889e-01 -7.01648831e-01  4.38858628e-01 -3.45663249e-01\n",
      "  2.27053426e-02 -2.99778879e-02 -3.49818677e-01  2.95587540e-01\n",
      " -3.97106767e-01 -3.12760234e-01  2.76371777e-01 -4.43479270e-01\n",
      "  7.30625808e-01  6.73559904e-02 -4.08077478e-01 -5.40031195e-01\n",
      " -3.47804219e-01  5.34878612e-01 -3.15442891e-03 -1.83802452e-02\n",
      "  6.12846613e-01 -5.95347762e-01  7.31194258e-01 -3.10658962e-01\n",
      "  5.44622302e-01 -4.60803926e-01  3.47923666e-01 -7.40483522e-01\n",
      "  4.85124588e-01  4.26251777e-02 -2.96418279e-01  2.42930487e-01\n",
      " -9.31129575e-01  3.20085078e-01 -7.35207558e-01 -7.56933033e-01\n",
      " -6.51855052e-01  3.49492967e-01 -1.44380167e-01 -4.48856384e-01\n",
      " -2.03501046e-01  5.29339969e-01 -6.82050347e-01 -6.10616744e-01\n",
      " -4.06817615e-01  1.28961354e-01  7.11020052e-01 -1.24414250e-01\n",
      " -1.98758189e-02  3.11891109e-01  1.70661926e-01 -4.98179980e-02\n",
      " -7.87810683e-01  4.85779941e-01  6.53745607e-02  1.38377190e-01\n",
      " -1.10915512e-01 -3.44106972e-01 -1.84721231e-01  4.20323730e-01\n",
      "  4.40805495e-01  3.36143702e-01 -6.39827669e-01 -2.42499307e-01\n",
      "  3.84870082e-01 -4.91633296e-01  3.98825705e-01  9.72510353e-02\n",
      "  9.54080746e-03  3.47751647e-01  1.08689025e-01  3.08194407e-03]\n"
     ]
    }
   ],
   "source": [
    "# 結果の確認1\n",
    "# 一つ一つの単語は100次元のベクトルになっています。 \n",
    "# 「世間」のベクトル値を確認します。\n",
    "print(model.__dict__['wv']['世間'])\n"
   ]
  },
  {
   "cell_type": "code",
   "execution_count": 10,
   "metadata": {},
   "outputs": [
    {
     "name": "stdout",
     "output_type": "stream",
     "text": [
      "喝采 0.558539867401123\n",
      "聞こえる 0.5464552044868469\n",
      "社会 0.5095115900039673\n",
      "堪える 0.5071780681610107\n",
      "賛成 0.5068718194961548\n",
      "自己 0.5028268694877625\n",
      "外国 0.4804230034351349\n",
      "ヘーゲル 0.4689410328865051\n",
      "未来 0.45543158054351807\n",
      "今日 0.4549022912979126\n"
     ]
    }
   ],
   "source": [
    "# 結果の確認2\n",
    "# 関数most_similarを使って「世間」の類似単語を調べます \n",
    "ret = model.wv.most_similar(positive=['世間']) \n",
    "for item in ret:\n",
    "    print(item[0], item[1])\n"
   ]
  },
  {
   "cell_type": "code",
   "execution_count": 12,
   "metadata": {},
   "outputs": [
    {
     "name": "stdout",
     "output_type": "stream",
     "text": [
      "4\n"
     ]
    }
   ],
   "source": [
    "import numpy as np\n",
    "\n",
    "arr = np.array([1, 2, 3, 4, 5, 4, 3, 2, 1])\n",
    "ans = arr.argmax()\n",
    "print(ans)"
   ]
  }
 ],
 "metadata": {
  "kernelspec": {
   "display_name": ".venv",
   "language": "python",
   "name": "python3"
  },
  "language_info": {
   "codemirror_mode": {
    "name": "ipython",
    "version": 3
   },
   "file_extension": ".py",
   "mimetype": "text/x-python",
   "name": "python",
   "nbconvert_exporter": "python",
   "pygments_lexer": "ipython3",
   "version": "3.9.6"
  }
 },
 "nbformat": 4,
 "nbformat_minor": 2
}
