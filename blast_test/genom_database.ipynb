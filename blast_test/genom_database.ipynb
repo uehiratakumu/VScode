{
 "cells": [
  {
   "cell_type": "code",
   "execution_count": 6,
   "metadata": {},
   "outputs": [
    {
     "name": "stderr",
     "output_type": "stream",
     "text": [
      "  % Total    % Received % Xferd  Average Speed   Time    Time     Time  Current\n",
      "                                 Dload  Upload   Total   Spent    Left  Speed\n",
      "100  893M  100  893M    0     0   464k      0  0:32:50  0:32:50 --:--:-- 1093k\n"
     ]
    },
    {
     "data": {
      "text/plain": [
       "CompletedProcess(args=['gunzip', 'Homo_sapiens.GRCh38.dna.toplevel.fa.gz'], returncode=0)"
      ]
     },
     "execution_count": 6,
     "metadata": {},
     "output_type": "execute_result"
    }
   ],
   "source": [
    "import subprocess\n",
    "subprocess.run(['curl', '-O', 'ftp://ftp.ensembl.org/pub/current_fasta/homo_sapiens/dna/Homo_sapiens.GRCh38.dna.toplevel.fa.gz'])\n",
    "subprocess.run(['gunzip', 'Homo_sapiens.GRCh38.dna.toplevel.fa.gz'])\n",
    "\n"
   ]
  },
  {
   "cell_type": "code",
   "execution_count": 1,
   "metadata": {},
   "outputs": [
    {
     "name": "stdout",
     "output_type": "stream",
     "text": [
      "makeblastdb -dbtype nucl -in /Users/takumu/VScode/homo_sapience_database/Homo_sapiens.GRCh38.dna.toplevel.fa -parse_seqids -hash_index\n"
     ]
    }
   ],
   "source": [
    "from Bio.Blast import Applications\n",
    "path = \"/Users/takumu/VScode/homo_sapience_database/Homo_sapiens.GRCh38.dna.toplevel.fa\"\n",
    "cline = Applications.NcbimakeblastdbCommandline(input_file=path, dbtype='nucl' ,hash_index=True ,parse_seqids=True)\n",
    "print(cline)"
   ]
  },
  {
   "cell_type": "code",
   "execution_count": 2,
   "metadata": {},
   "outputs": [
    {
     "name": "stdout",
     "output_type": "stream",
     "text": [
      "\n",
      "\n",
      "Building a new DB, current time: 10/01/2023 01:27:15\n",
      "New DB name:   /Users/takumu/VScode/homo_sapience_database/Homo_sapiens.GRCh38.dna.toplevel.fa\n",
      "New DB title:  /Users/takumu/VScode/homo_sapience_database/Homo_sapiens.GRCh38.dna.toplevel.fa\n",
      "Sequence type: Nucleotide\n",
      "Keep MBits: T\n",
      "Maximum file size: 3000000000B\n",
      "Adding sequences from FASTA; added 706 sequences in 27.3253 seconds.\n",
      "\n",
      "\n",
      "\n"
     ]
    }
   ],
   "source": [
    "stdout, stderr = cline()\n",
    "print(stdout)"
   ]
  },
  {
   "cell_type": "code",
   "execution_count": 3,
   "metadata": {},
   "outputs": [],
   "source": [
    "from Bio import TogoWS, SeqIO\n",
    "with TogoWS.entry('nucleotide', '1819861774', 'fasta') as handle:\n",
    "    record = SeqIO.read(handle, \"fasta\")\n",
    "    SeqIO.write(record, '1819861774.fasta', 'fasta')\n",
    " \n",
    "from Bio.Blast import Applications\n",
    "cline = Applications.NcbiblastnCommandline(query='1819861774.fasta', db=path, out='blastn-out.txt')\n",
    "stdout, stderr = cline()"
   ]
  },
  {
   "cell_type": "code",
   "execution_count": null,
   "metadata": {},
   "outputs": [],
   "source": [
    "import multiprocessing\n",
    "core = multiprocessing.cpu_count()\n",
    " \n",
    "from Bio.Blast import Applications\n",
    "cline = Applications.NcbiblastnCommandline(query='1819861774.fasta', db=path, out='blastn-out.txt', num_threads=core)"
   ]
  }
 ],
 "metadata": {
  "kernelspec": {
   "display_name": ".venv",
   "language": "python",
   "name": "python3"
  },
  "language_info": {
   "codemirror_mode": {
    "name": "ipython",
    "version": 3
   },
   "file_extension": ".py",
   "mimetype": "text/x-python",
   "name": "python",
   "nbconvert_exporter": "python",
   "pygments_lexer": "ipython3",
   "version": "3.9.6"
  },
  "orig_nbformat": 4
 },
 "nbformat": 4,
 "nbformat_minor": 2
}
