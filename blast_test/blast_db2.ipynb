{
 "cells": [
  {
   "cell_type": "code",
   "execution_count": 1,
   "metadata": {},
   "outputs": [
    {
     "name": "stdout",
     "output_type": "stream",
     "text": [
      "makeblastdb -dbtype nucl -in blast_test\\db_0907.fasta\n"
     ]
    }
   ],
   "source": [
    "from Bio.Blast import Applications\n",
    "cline = Applications.NcbimakeblastdbCommandline(input_file='blast_test\\db_0907.fasta', dbtype='nucl')\n",
    "print(cline)"
   ]
  },
  {
   "cell_type": "code",
   "execution_count": 2,
   "metadata": {},
   "outputs": [
    {
     "ename": "ApplicationError",
     "evalue": "Non-zero return code 1 from 'makeblastdb -dbtype nucl -in blast_test\\\\db_0907.fasta', message \"'makeblastdb' は、内部コマンドまたは外部コマンド、\"",
     "output_type": "error",
     "traceback": [
      "\u001b[1;31m---------------------------------------------------------------------------\u001b[0m",
      "\u001b[1;31mApplicationError\u001b[0m                          Traceback (most recent call last)",
      "Cell \u001b[1;32mIn[2], line 1\u001b[0m\n\u001b[1;32m----> 1\u001b[0m stdout, stderr \u001b[39m=\u001b[39m cline()\n\u001b[0;32m      2\u001b[0m \u001b[39mprint\u001b[39m(stdout)\n",
      "File \u001b[1;32m~\\AppData\\Local\\Packages\\PythonSoftwareFoundation.Python.3.11_qbz5n2kfra8p0\\LocalCache\\local-packages\\Python311\\site-packages\\Bio\\Application\\__init__.py:574\u001b[0m, in \u001b[0;36mAbstractCommandline.__call__\u001b[1;34m(self, stdin, stdout, stderr, cwd, env)\u001b[0m\n\u001b[0;32m    571\u001b[0m     stderr_arg\u001b[39m.\u001b[39mclose()\n\u001b[0;32m    573\u001b[0m \u001b[39mif\u001b[39;00m return_code:\n\u001b[1;32m--> 574\u001b[0m     \u001b[39mraise\u001b[39;00m ApplicationError(return_code, \u001b[39mstr\u001b[39m(\u001b[39mself\u001b[39m), stdout_str, stderr_str)\n\u001b[0;32m    575\u001b[0m \u001b[39mreturn\u001b[39;00m stdout_str, stderr_str\n",
      "\u001b[1;31mApplicationError\u001b[0m: Non-zero return code 1 from 'makeblastdb -dbtype nucl -in blast_test\\\\db_0907.fasta', message \"'makeblastdb' は、内部コマンドまたは外部コマンド、\""
     ]
    }
   ],
   "source": [
    "stdout, stderr = cline()\n",
    "print(stdout)"
   ]
  }
 ],
 "metadata": {
  "kernelspec": {
   "display_name": "Python 3",
   "language": "python",
   "name": "python3"
  },
  "language_info": {
   "codemirror_mode": {
    "name": "ipython",
    "version": 3
   },
   "file_extension": ".py",
   "mimetype": "text/x-python",
   "name": "python",
   "nbconvert_exporter": "python",
   "pygments_lexer": "ipython3",
   "version": "3.11.5"
  },
  "orig_nbformat": 4
 },
 "nbformat": 4,
 "nbformat_minor": 2
}
