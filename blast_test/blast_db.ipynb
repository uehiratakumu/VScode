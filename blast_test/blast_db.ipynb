{
 "cells": [
  {
   "cell_type": "code",
   "execution_count": 1,
   "metadata": {},
   "outputs": [],
   "source": [
    "from Bio import Entrez, SeqIO\n",
    "from Bio.SeqFeature import SeqFeature, FeatureLocation\n",
    "from Bio.SeqRecord import SeqRecord\n",
    "from pathlib import Path\n",
    "import pathlib"
   ]
  },
  {
   "cell_type": "code",
   "execution_count": 2,
   "metadata": {},
   "outputs": [],
   "source": [
    "# 取得したいデータのIDを指定\n",
    "id = 'LC600705'"
   ]
  },
  {
   "cell_type": "code",
   "execution_count": 3,
   "metadata": {},
   "outputs": [
    {
     "name": "stderr",
     "output_type": "stream",
     "text": [
      "C:\\Users\\takum\\AppData\\Local\\Packages\\PythonSoftwareFoundation.Python.3.11_qbz5n2kfra8p0\\LocalCache\\local-packages\\Python311\\site-packages\\Bio\\Entrez\\__init__.py:694: UserWarning: \n",
      "            Email address is not specified.\n",
      "\n",
      "            To make use of NCBI's E-utilities, NCBI requires you to specify your\n",
      "            email address with each request.  As an example, if your email address\n",
      "            is A.N.Other@example.com, you can specify it as follows:\n",
      "               from Bio import Entrez\n",
      "               Entrez.email = 'A.N.Other@example.com'\n",
      "            In case of excessive usage of the E-utilities, NCBI will attempt to contact\n",
      "            a user at the email address provided before blocking access to the\n",
      "            E-utilities.\n",
      "  warnings.warn(\n"
     ]
    },
    {
     "name": "stdout",
     "output_type": "stream",
     "text": [
      "LOCUS       LC600705                 808 bp    DNA     linear   VRT 13-JAN-2021\n",
      "DEFINITION  Hemitrygon akajei CBM:ZF:20845 mitochondrial gene for 12S rRNA,\n",
      "            partial sequence.\n",
      "ACCESSION   LC600705\n",
      "VERSION     LC600705.1\n",
      "KEYWORDS    .\n",
      "SOURCE      mitochondrion Hemitrygon akajei (red stingray)\n",
      "  ORGANISM  Hemitrygon akajei\n",
      "            Eukaryota; Metazoa; Chordata; Craniata; Vertebrata; Chondrichthyes;\n",
      "            Elasmobranchii; Batoidea; Myliobatiformes; Dasyatidae; Hemitrygon.\n",
      "REFERENCE   1\n",
      "  AUTHORS   Sado,T., Fukuchi,T. and Miya,M.\n",
      "  TITLE     Reference data for MiFish metabarcoding analysis\n",
      "  JOURNAL   Unpublished\n",
      "REFERENCE   2  (bases 1 to 808)\n",
      "  AUTHORS   Sado,T., Fukuchi,T. and Miya,M.\n",
      "  TITLE     Direct Submission\n",
      "  JOURNAL   Submitted (10-JAN-2021) Contact:Tetsuya Sado Natural History Museum\n",
      "            & Institute, Chiba; 955-2 Aoba-cho, Chuo-ku, Chiba, Chiba 260-8682,\n",
      "            Japan URL :http://www2.chiba-muse.or.jp/NATURAL/\n",
      "FEATURES             Location/Qualifiers\n",
      "     source          1..808\n",
      "                     /organism=\"Hemitrygon akajei\"\n",
      "                     /organelle=\"mitochondrion\"\n",
      "                     /mol_type=\"genomic DNA\"\n",
      "                     /specimen_voucher=\"CBM:ZF:20845\"\n",
      "                     /db_xref=\"taxon:2704970\"\n",
      "                     /country=\"Japan:Chiba, Chiba, Chuo, Chiba Port Park, Beach\n",
      "                     Plaza\"\n",
      "                     /PCR_primers=\"fwd_name: L-708-12S, fwd_seq:\n",
      "                     ttayacatgcaagtatccgc, rev_name: H-1903-16S, rev_seq:\n",
      "                     gtagctcgtytagtttcggg\"\n",
      "                     /note=\"synonym:Dasyatis akajei\"\n",
      "     rRNA            <1..>808\n",
      "                     /product=\"12S ribosomal RNA\"\n",
      "ORIGIN      \n",
      "        1 attccggtga gaacgcccta atcagcctac acatctaatt aggagctggt atcaggcaca\n",
      "       61 ctccaaagca gcccataaca cctcgctcgg ccacacccac aagggaattc agcagtgata\n",
      "      121 aacattgttc cataagcgca agcttgagtc aatcaaagtt ataaagagtt ggttaatctc\n",
      "      181 gtgccagcca ccgcggttat acgagtgacg caaactaata ttccacggcg ttaagggtga\n",
      "      241 ttagaaatat cttatccaaa ataaagttaa gaccccatta agctgtcata cgctctcatg\n",
      "      301 cttaaaaata tcactcacga aagtaacttt acataaaata gagtttttga cctcacgaca\n",
      "      361 gttaagaccc aaactaggat tagataccct actatgctta accgtaaaca tcgttataaa\n",
      "      421 taaatttacc ttaatacacc gcctgaacac tacaagcgct agcttaaaac ccaaaggact\n",
      "      481 tggcggtgct ccaaacccac ctagaggagc ctgttctata accgataatc cacgtttaac\n",
      "      541 ctcaccactt cttgcctttt tccgcctata taccgccgtc gtcagctcac cctgtgaaga\n",
      "      601 tacaacagta agcataatga ccttttaccc tcaacacgtc aggtcgaggt gtagcgaatg\n",
      "      661 aagtgggaag aaatgggcta cattctcttt ttagagtaca cgaacagaaa catgaaaaat\n",
      "      721 ttcttaaagg tggatttagc agtaagtaaa tttcagaata ttatactgaa accggctctg\n",
      "      781 gagcgcgcac acaccgcccg tcactctc\n",
      "//\n",
      "\n",
      "\n"
     ]
    }
   ],
   "source": [
    "handle = Entrez.efetch(db = 'nucleotide', id = id, rettype = 'gb', retmode = 'text')\n",
    "print(handle.read())"
   ]
  },
  {
   "cell_type": "code",
   "execution_count": 4,
   "metadata": {},
   "outputs": [
    {
     "name": "stdout",
     "output_type": "stream",
     "text": [
      "Hemitrygon akajei\n"
     ]
    }
   ],
   "source": [
    "# Genbank形式で情報を取得\n",
    "handle = Entrez.efetch(db = 'nucleotide', id = id, rettype = 'gb', retmode = 'text')\n",
    "\n",
    "# 情報の読み込み\n",
    "record = SeqIO.read(handle, \"genbank\")\n",
    "\n",
    "# LC600705の学名を表示\n",
    "organ = record.annotations['organism']\n",
    "print(organ)"
   ]
  },
  {
   "cell_type": "code",
   "execution_count": 5,
   "metadata": {},
   "outputs": [
    {
     "name": "stdout",
     "output_type": "stream",
     "text": [
      "type: source\n",
      "location: [0:808](+)\n",
      "qualifiers:\n",
      "    Key: PCR_primers, Value: ['fwd_name: L-708-12S, fwd_seq: ttayacatgcaagtatccgc, rev_name: H-1903-16S, rev_seq: gtagctcgtytagtttcggg']\n",
      "    Key: country, Value: ['Japan:Chiba, Chiba, Chuo, Chiba Port Park, Beach Plaza']\n",
      "    Key: db_xref, Value: ['taxon:2704970']\n",
      "    Key: mol_type, Value: ['genomic DNA']\n",
      "    Key: note, Value: ['synonym:Dasyatis akajei']\n",
      "    Key: organelle, Value: ['mitochondrion']\n",
      "    Key: organism, Value: ['Hemitrygon akajei']\n",
      "    Key: specimen_voucher, Value: ['CBM:ZF:20845']\n",
      "\n"
     ]
    }
   ],
   "source": [
    "# Genbank形式で情報を取得\n",
    "handle = Entrez.efetch(db = 'nucleotide', id = id, rettype = 'gb', retmode = 'text')\n",
    "\n",
    "# 情報の読み込み\n",
    "record = SeqIO.read(handle, \"genbank\")\n",
    "\n",
    "# Feature情報を表示\n",
    "feature = record.features\n",
    "print(feature[0])"
   ]
  },
  {
   "cell_type": "code",
   "execution_count": 6,
   "metadata": {},
   "outputs": [
    {
     "name": "stdout",
     "output_type": "stream",
     "text": [
      "L-708-12S\n",
      "ttayacatgcaagtatccgc\n",
      "H-1903-16S\n",
      "gtagctcgtytagtttcggg\n"
     ]
    }
   ],
   "source": [
    "# Genbank形式で情報を取得\n",
    "handle = Entrez.efetch(db = 'nucleotide', id = id, rettype = 'gb', retmode = 'text')\n",
    "# 情報の読み込み\n",
    "record = SeqIO.read(handle, \"genbank\")\n",
    "\n",
    "# typeがsorceの中でPCR_primerの情報を抜き出す\n",
    "for feature in record.features:\n",
    "    if feature.type == 'source':\n",
    "        if 'PCR_primers' in feature.qualifiers:\n",
    "                primer_list = feature.qualifiers['PCR_primers']\n",
    "                \n",
    "                # 文字列に変換\n",
    "                primer_str = str(primer_list[0])\n",
    "                \n",
    "                # カンマで区切る\n",
    "                primer_split_list = primer_str.split(',')\n",
    "                \n",
    "                # 各プライマー情報\n",
    "                FPrimer_name = primer_split_list[0].split(': ')[1]\n",
    "                FPrimer_seq = primer_split_list[1].split(': ')[1]\n",
    "                RPrimer_name = primer_split_list[2].split(': ')[1]\n",
    "                RPrimer_seq = primer_split_list[3].split(': ')[1]\n",
    "                \n",
    "                # 出力\n",
    "                print(FPrimer_name)\n",
    "                print(FPrimer_seq)\n",
    "                print(RPrimer_name)\n",
    "                print(RPrimer_seq)\n",
    "        else:\n",
    "                primer_list = 'No information'\n",
    "                print(primer_list)"
   ]
  },
  {
   "cell_type": "code",
   "execution_count": 7,
   "metadata": {},
   "outputs": [
    {
     "name": "stdout",
     "output_type": "stream",
     "text": [
      "primer folder exists\n"
     ]
    }
   ],
   "source": [
    "# なければ作成　あれば作成しない\n",
    "if not pathlib.Path('primer').exists():\n",
    "        pathlib.Path(\"primer\").mkdir()\n",
    "else:\n",
    "    print(\"primer folder exists\")"
   ]
  },
  {
   "cell_type": "code",
   "execution_count": 8,
   "metadata": {},
   "outputs": [
    {
     "name": "stdout",
     "output_type": "stream",
     "text": [
      "primer folder exists\n"
     ]
    }
   ],
   "source": [
    "# なければ作成　あれば作成しない\n",
    "if not pathlib.Path('primer').exists():\n",
    "        pathlib.Path(\"primer\").mkdir()\n",
    "else:\n",
    "    print(\"primer folder exists\")"
   ]
  }
 ],
 "metadata": {
  "kernelspec": {
   "display_name": "Python 3",
   "language": "python",
   "name": "python3"
  },
  "language_info": {
   "codemirror_mode": {
    "name": "ipython",
    "version": 3
   },
   "file_extension": ".py",
   "mimetype": "text/x-python",
   "name": "python",
   "nbconvert_exporter": "python",
   "pygments_lexer": "ipython3",
   "version": "3.9.6"
  },
  "orig_nbformat": 4
 },
 "nbformat": 4,
 "nbformat_minor": 2
}
