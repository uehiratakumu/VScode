{
 "cells": [
  {
   "cell_type": "code",
   "execution_count": 16,
   "metadata": {},
   "outputs": [],
   "source": [
    "from Bio import TogoWS, SeqIO\n",
    "import pandas as pd\n",
    "from Bio.Blast import Applications\n",
    "# FASTAファイルを読み込む\n",
    "rankl = \"signal_db/rankl_gene.fa\"\n",
    "sost = \"signal_db/sost_gene.fa\"\n",
    "path = [rankl, sost]\n",
    "name = [\"rankl\", \"sost\"]\n",
    "rankl_3urt = \"signal_db/rankl_3utr.fa\"\n",
    "sost_3urt = \"signal_db/sost_3utr.fa\"\n",
    "path_3utr =[rankl_3urt, sost_3urt]"
   ]
  },
  {
   "cell_type": "code",
   "execution_count": 22,
   "metadata": {},
   "outputs": [
    {
     "data": {
      "text/plain": [
       "Seq('AGCGAGCCCGCGCCTATGCAGCCCCCGCGCGATCCGATTCGTTTTCAGTGTAAA...GCA')"
      ]
     },
     "execution_count": 22,
     "metadata": {},
     "output_type": "execute_result"
    }
   ],
   "source": [
    "records_3utr = list(SeqIO.parse(path_3utr[1], \"fasta\"))\n",
    "records_3utr[0].seq"
   ]
  },
  {
   "cell_type": "code",
   "execution_count": 23,
   "metadata": {},
   "outputs": [],
   "source": [
    "name_r = []\n",
    "crhomesome = []\n",
    "start = []\n",
    "end = []\n",
    "seq = []\n",
    "seq_3utr = []\n",
    "for k in range(len(name)):\n",
    "    records = list(SeqIO.parse(path[k], \"fasta\"))\n",
    "    records_3utr = list(SeqIO.parse(path_3utr[k], \"fasta\"))\n",
    "    x = records[0].description.split(\" \")\n",
    "    x\n",
    "    z = []\n",
    "    for i in range(len(x)):\n",
    "        y  = (x[i].split(\":\"))\n",
    "        for j in range(len(y)):\n",
    "            z.append(y[j])\n",
    "    name_r.append(name[k])\n",
    "    crhomesome.append(str(z[5]))\n",
    "    start.append(z[6])\n",
    "    end.append(z[7])\n",
    "    seq.append(str(records[0].seq))\n",
    "    seq_3utr.append(str(records_3utr[0].seq))\n",
    "mRNA = pd.DataFrame({\"name\":name_r, \"crhomesome\":crhomesome, \"start\":start, \"end\":end, \"seq\":seq, \"seq_3utr\":seq_3utr})\n",
    "mRNA.to_csv(\"/Users/takumu/VScode/VScode/blast_test/signal.csv\", index=False)\n"
   ]
  },
  {
   "cell_type": "code",
   "execution_count": 1,
   "metadata": {},
   "outputs": [
    {
     "ename": "NameError",
     "evalue": "name 'mRNA' is not defined",
     "output_type": "error",
     "traceback": [
      "\u001b[0;31m---------------------------------------------------------------------------\u001b[0m",
      "\u001b[0;31mNameError\u001b[0m                                 Traceback (most recent call last)",
      "\u001b[1;32m/Users/takumu/VScode/VScode/blast_test/signal.ipynb セル 4\u001b[0m line \u001b[0;36m1\n\u001b[0;32m----> <a href='vscode-notebook-cell:/Users/takumu/VScode/VScode/blast_test/signal.ipynb#W3sZmlsZQ%3D%3D?line=0'>1</a>\u001b[0m mRNA\n",
      "\u001b[0;31mNameError\u001b[0m: name 'mRNA' is not defined"
     ]
    }
   ],
   "source": [
    "mRNA"
   ]
  }
 ],
 "metadata": {
  "kernelspec": {
   "display_name": ".venv",
   "language": "python",
   "name": "python3"
  },
  "language_info": {
   "codemirror_mode": {
    "name": "ipython",
    "version": 3
   },
   "file_extension": ".py",
   "mimetype": "text/x-python",
   "name": "python",
   "nbconvert_exporter": "python",
   "pygments_lexer": "ipython3",
   "version": "3.9.6"
  },
  "orig_nbformat": 4
 },
 "nbformat": 4,
 "nbformat_minor": 2
}
