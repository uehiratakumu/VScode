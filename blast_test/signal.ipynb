{
 "cells": [
  {
   "cell_type": "code",
   "execution_count": 1,
   "metadata": {},
   "outputs": [],
   "source": [
    "from Bio import TogoWS, SeqIO\n",
    "import pandas as pd\n",
    "from Bio.Blast import Applications\n",
    "# FASTAファイルを読み込む\n",
    "rankl = \"signal_db/rankl_gene.fa\"\n",
    "sost = \"signal_db/sost_gene.fa\"\n",
    "path = [rankl, sost]\n",
    "name = [\"rankl\", \"sost\"]\n",
    "records = list(SeqIO.parse(path[1], \"fasta\"))"
   ]
  },
  {
   "cell_type": "code",
   "execution_count": 2,
   "metadata": {},
   "outputs": [],
   "source": [
    "name_r = []\n",
    "crhomesome = []\n",
    "start = []\n",
    "end = []\n",
    "seq = []\n",
    "for k in range(len(name)):\n",
    "    records = list(SeqIO.parse(path[k], \"fasta\"))\n",
    "    x = records[0].description.split(\" \")\n",
    "    x\n",
    "    z = []\n",
    "    for i in range(len(x)):\n",
    "        y  = (x[i].split(\":\"))\n",
    "        for j in range(len(y)):\n",
    "            z.append(y[j])\n",
    "    name_r.append(name[k])\n",
    "    crhomesome.append(str(z[5]))\n",
    "    start.append(z[6])\n",
    "    end.append(z[7])\n",
    "    seq.append(str(records[0].seq))\n",
    "mRNA = pd.DataFrame({\"name\":name_r, \"crhomesome\":crhomesome, \"start\":start, \"end\":end, \"seq\":seq})\n",
    "mRNA.to_csv(\"/Users/takumu/VScode/VScode/blast_test/signal.csv\", index=False)\n"
   ]
  },
  {
   "cell_type": "code",
   "execution_count": 3,
   "metadata": {},
   "outputs": [
    {
     "name": "stdout",
     "output_type": "stream",
     "text": [
      "<class 'pandas.core.frame.DataFrame'>\n",
      "RangeIndex: 2 entries, 0 to 1\n",
      "Data columns (total 5 columns):\n",
      " #   Column      Non-Null Count  Dtype \n",
      "---  ------      --------------  ----- \n",
      " 0   name        2 non-null      object\n",
      " 1   crhomesome  2 non-null      object\n",
      " 2   start       2 non-null      object\n",
      " 3   end         2 non-null      object\n",
      " 4   seq         2 non-null      object\n",
      "dtypes: object(5)\n",
      "memory usage: 208.0+ bytes\n"
     ]
    }
   ],
   "source": [
    "mRNA.info()"
   ]
  }
 ],
 "metadata": {
  "kernelspec": {
   "display_name": ".venv",
   "language": "python",
   "name": "python3"
  },
  "language_info": {
   "codemirror_mode": {
    "name": "ipython",
    "version": 3
   },
   "file_extension": ".py",
   "mimetype": "text/x-python",
   "name": "python",
   "nbconvert_exporter": "python",
   "pygments_lexer": "ipython3",
   "version": "3.9.6"
  },
  "orig_nbformat": 4
 },
 "nbformat": 4,
 "nbformat_minor": 2
}
