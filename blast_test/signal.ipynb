{
 "cells": [
  {
   "cell_type": "code",
   "execution_count": 1,
   "metadata": {},
   "outputs": [],
   "source": [
    "from Bio import TogoWS, SeqIO\n",
    "import pandas as pd\n",
    "from Bio.Blast import Applications\n",
    "# FASTAファイルを読み込む\n",
    "rankl = \"signal_db/rankl_gene.fa\"\n",
    "sost = \"signal_db/sost_gene.fa\"\n",
    "path = [rankl, sost]\n",
    "name = [\"rankl\", \"sost\"]\n",
    "rankl_3urt = \"signal_db/rankl_3utr.fa\"\n",
    "sost_3urt = \"signal_db/sost_3utr.fa\"\n",
    "path_3utr =[rankl_3urt, sost_3urt]"
   ]
  },
  {
   "cell_type": "code",
   "execution_count": 2,
   "metadata": {},
   "outputs": [
    {
     "data": {
      "text/plain": [
       "Seq('AGCGAGCCCGCGCCTATGCAGCCCCCGCGCGATCCGATTCGTTTTCAGTGTAAA...GCA')"
      ]
     },
     "execution_count": 2,
     "metadata": {},
     "output_type": "execute_result"
    }
   ],
   "source": [
    "records_3utr = list(SeqIO.parse(path_3utr[1], \"fasta\"))\n",
    "records_3utr[0].seq"
   ]
  },
  {
   "cell_type": "code",
   "execution_count": 3,
   "metadata": {},
   "outputs": [],
   "source": [
    "name_r = []\n",
    "crhomesome = []\n",
    "start = []\n",
    "end = []\n",
    "seq = []\n",
    "seq_3utr = []\n",
    "for k in range(len(name)):\n",
    "    records = list(SeqIO.parse(path[k], \"fasta\"))\n",
    "    records_3utr = list(SeqIO.parse(path_3utr[k], \"fasta\"))\n",
    "    x = records[0].description.split(\" \")\n",
    "    x\n",
    "    z = []\n",
    "    for i in range(len(x)):\n",
    "        y  = (x[i].split(\":\"))\n",
    "        for j in range(len(y)):\n",
    "            z.append(y[j])\n",
    "    name_r.append(name[k])\n",
    "    crhomesome.append(str(z[5]))\n",
    "    start.append(z[6])\n",
    "    end.append(z[7])\n",
    "    seq.append(str(records[0].seq))\n",
    "    seq_3utr.append(str(records_3utr[0].seq))\n",
    "mRNA = pd.DataFrame({\"name\":name_r, \"crhomesome\":crhomesome, \"start\":start, \"end\":end, \"seq\":seq, \"seq_3utr\":seq_3utr})\n",
    "mRNA.to_csv(\"/Users/takumu/VScode/VScode/blast_test/signal.csv\", index=False)\n"
   ]
  },
  {
   "cell_type": "code",
   "execution_count": 4,
   "metadata": {},
   "outputs": [
    {
     "data": {
      "text/html": [
       "<div>\n",
       "<style scoped>\n",
       "    .dataframe tbody tr th:only-of-type {\n",
       "        vertical-align: middle;\n",
       "    }\n",
       "\n",
       "    .dataframe tbody tr th {\n",
       "        vertical-align: top;\n",
       "    }\n",
       "\n",
       "    .dataframe thead th {\n",
       "        text-align: right;\n",
       "    }\n",
       "</style>\n",
       "<table border=\"1\" class=\"dataframe\">\n",
       "  <thead>\n",
       "    <tr style=\"text-align: right;\">\n",
       "      <th></th>\n",
       "      <th>name</th>\n",
       "      <th>crhomesome</th>\n",
       "      <th>start</th>\n",
       "      <th>end</th>\n",
       "      <th>seq</th>\n",
       "      <th>seq_3utr</th>\n",
       "    </tr>\n",
       "  </thead>\n",
       "  <tbody>\n",
       "    <tr>\n",
       "      <th>0</th>\n",
       "      <td>rankl</td>\n",
       "      <td>14</td>\n",
       "      <td>78514285</td>\n",
       "      <td>78546083</td>\n",
       "      <td>TTTTGTACCCTCTACCCATCCCTTTGTCTAGTTCTTCCTGGCTCAC...</td>\n",
       "      <td>GACTCATTTCGTGGAACATTAGCATGGATGTCCTAGATGTTTGGAA...</td>\n",
       "    </tr>\n",
       "    <tr>\n",
       "      <th>1</th>\n",
       "      <td>sost</td>\n",
       "      <td>11</td>\n",
       "      <td>101853284</td>\n",
       "      <td>101857841</td>\n",
       "      <td>ACTGGAGCCTGTGCTACCGAGTGCCCTCCTCCACCTGGCAGCATGC...</td>\n",
       "      <td>AGCGAGCCCGCGCCTATGCAGCCCCCGCGCGATCCGATTCGTTTTC...</td>\n",
       "    </tr>\n",
       "  </tbody>\n",
       "</table>\n",
       "</div>"
      ],
      "text/plain": [
       "    name crhomesome      start        end  \\\n",
       "0  rankl         14   78514285   78546083   \n",
       "1   sost         11  101853284  101857841   \n",
       "\n",
       "                                                 seq  \\\n",
       "0  TTTTGTACCCTCTACCCATCCCTTTGTCTAGTTCTTCCTGGCTCAC...   \n",
       "1  ACTGGAGCCTGTGCTACCGAGTGCCCTCCTCCACCTGGCAGCATGC...   \n",
       "\n",
       "                                            seq_3utr  \n",
       "0  GACTCATTTCGTGGAACATTAGCATGGATGTCCTAGATGTTTGGAA...  \n",
       "1  AGCGAGCCCGCGCCTATGCAGCCCCCGCGCGATCCGATTCGTTTTC...  "
      ]
     },
     "execution_count": 4,
     "metadata": {},
     "output_type": "execute_result"
    }
   ],
   "source": [
    "mRNA"
   ]
  }
 ],
 "metadata": {
  "kernelspec": {
   "display_name": ".venv",
   "language": "python",
   "name": "python3"
  },
  "language_info": {
   "codemirror_mode": {
    "name": "ipython",
    "version": 3
   },
   "file_extension": ".py",
   "mimetype": "text/x-python",
   "name": "python",
   "nbconvert_exporter": "python",
   "pygments_lexer": "ipython3",
   "version": "3.9.6"
  },
  "orig_nbformat": 4
 },
 "nbformat": 4,
 "nbformat_minor": 2
}
