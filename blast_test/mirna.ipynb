{
 "cells": [
  {
   "cell_type": "code",
   "execution_count": null,
   "metadata": {},
   "outputs": [],
   "source": [
    "from Bio import TogoWS, SeqIO\n",
    "# FASTAファイルを読み込む\n",
    "file_path = \"/Users/takumu/VScode/Mus_musculus_db/Mus_musculus.GRCm39.ncrna.fa\"\n",
    "records = list(SeqIO.parse(file_path, \"fasta\"))\n",
    "\n",
    "# 各エントリに関する情報を取得する\n",
    "rna_info = []\n",
    "y = []\n",
    "for record in records:\n",
    "    x= list(record.description.split(\" \")) # エントリの情報をスペースで区切ってリストに格納\n",
    "    y.append(x[0]) # エントリIDをリストに格納\n",
    "    y.append(x[2]) \n",
    "    y.append(x[3])\n",
    "    y.append(x[4])\n",
    "    y.append(str(record.seq))\n",
    "    rna_info.append(y)\n",
    "\n",
    "# 先頭5つのエントリに関する情報を表示\n",
    "for info in rna_info[:5]:\n",
    "    print(info)"
   ]
  },
  {
   "cell_type": "code",
   "execution_count": null,
   "metadata": {},
   "outputs": [],
   "source": [
    "import pandas as pd\n",
    "\n",
    "rna_df = pd.DataFrame(rna_info,columns=[\"ID\",\"chromosome\",\"start\",\"end\",\"strand\",\"gene\",\"biotype\",\"seq\"])\n",
    "rna_df[rna_df.columns.values][rna_df[\"biotype\"] == \"miRNA\"].to_csv(\"miRNA.csv\",index=False)\n",
    "miRNA = pd.read_csv(\"miRNA.csv\")\n",
    "miRNA.head()"
   ]
  }
 ],
 "metadata": {
  "language_info": {
   "name": "python"
  },
  "orig_nbformat": 4
 },
 "nbformat": 4,
 "nbformat_minor": 2
}
