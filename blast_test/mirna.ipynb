{
 "cells": [
  {
   "cell_type": "code",
   "execution_count": 1,
   "metadata": {},
   "outputs": [
    {
     "name": "stdout",
     "output_type": "stream",
     "text": [
      "['ENSMUST00000104605.4', 'chromosome:GRCm39:Y:1308273:1308377:-1', 'gene:ENSMUSG00000077793.4', 'gene_biotype:snRNA', 'GGGTTCACTAGGTAGCAAATATACTAAATTTGGAACTATAAAGACAAGATTAGCATGACCCTTGCACAAAATGACATACAAATTAATAAAACATTCCATACTTTT']\n",
      "['ENSMUST00000122627.3', 'chromosome:GRCm39:16:89248383:89248487:-1', 'gene:ENSMUSG00000084576.3', 'gene_biotype:snRNA', 'GTGCTTGCTTAAGCAGCATGCATATTAAAATTGGATCGCCACAGTAGATTAGCATGGCCTCTGAACAAGGCTGACATACAAGTTTTTGAAAAATTTTATTTTTCT']\n",
      "['ENSMUST00000157602.3', 'chromosome:GRCm39:18:55312912:55312991:1', 'gene:ENSMUSG00000088227.3', 'gene_biotype:snRNA', 'GTGCTCGCTTCCGCAGCACATATACTAAAATTGGAACAATACAGAGATTAGCATGGCTCCTGTGCAAAGATGACCCGCAA']\n",
      "['ENSMUST00000083254.3', 'chromosome:GRCm39:16:37800449:37800588:1', 'gene:ENSMUSG00000065188.3', 'gene_biotype:snRNA', 'ATACTTGGCAGGGGAGACACCAATATCAGGAAGAAGGTTTTCCCAGGGTAAGGCTTACCCTGTGCATTTGGGGTGTGCTGACCCCTGAGTAAATTTGACTTCATAATTTGTGGTAGTGAGGAGTACATTTGAGCTCTTTC']\n",
      "['ENSMUST00020182548.1', 'chromosome:GRCm39:18:20977504:20977649:-1', 'gene:ENSMUSG00002076630.1', 'gene_biotype:snRNA', 'ATACTTAACCTGACAGGGATACACCATGATTAAGAAAGTGATCTTTCCAGGGCAAGACTCTTCCATTGCACTTGGGATTTGCTGACCTAAAATATACTTTCACTAAATGGGAGAAATGCCACTGAAGATTCTGTGATAAAATTTGA']\n"
     ]
    }
   ],
   "source": [
    "from Bio import TogoWS, SeqIO\n",
    "# FASTAファイルを読み込む\n",
    "file_path = \"/Users/takumu/VScode/Mus_musculus_db/Mus_musculus.GRCm39.ncrna.fa\"\n",
    "records = list(SeqIO.parse(file_path, \"fasta\"))\n",
    "\n",
    "# 各エントリに関する情報を取得する\n",
    "rna_info = []\n",
    "for record in records:\n",
    "    y = []\n",
    "    x= list(record.description.split(\" \")) # エントリの情報をスペースで区切ってリストに格納\n",
    "    y.append(x[0]) # エントリIDをリストに格納\n",
    "    y.append(x[2]) \n",
    "    y.append(x[3])\n",
    "    y.append(x[4])\n",
    "    y.append(str(record.seq))\n",
    "    rna_info.append(y)\n",
    "\n",
    "# 先頭5つのエントリに関する情報を表示\n",
    "for info in rna_info[:5]:\n",
    "    print(info)"
   ]
  },
  {
   "cell_type": "code",
   "execution_count": 2,
   "metadata": {},
   "outputs": [
    {
     "data": {
      "text/html": [
       "<div>\n",
       "<style scoped>\n",
       "    .dataframe tbody tr th:only-of-type {\n",
       "        vertical-align: middle;\n",
       "    }\n",
       "\n",
       "    .dataframe tbody tr th {\n",
       "        vertical-align: top;\n",
       "    }\n",
       "\n",
       "    .dataframe thead th {\n",
       "        text-align: right;\n",
       "    }\n",
       "</style>\n",
       "<table border=\"1\" class=\"dataframe\">\n",
       "  <thead>\n",
       "    <tr style=\"text-align: right;\">\n",
       "      <th></th>\n",
       "      <th>ID</th>\n",
       "      <th>describe</th>\n",
       "      <th>gene</th>\n",
       "      <th>biotype</th>\n",
       "      <th>seq</th>\n",
       "    </tr>\n",
       "  </thead>\n",
       "  <tbody>\n",
       "    <tr>\n",
       "      <th>0</th>\n",
       "      <td>ENSMUST00020181715.1</td>\n",
       "      <td>scaffold:GRCm39:GL456239.1:38438:38535:1</td>\n",
       "      <td>gene:ENSMUSG00002075400.1</td>\n",
       "      <td>gene_biotype:miRNA</td>\n",
       "      <td>CTTTGGTGTCACAATGCTCCACTGTGATGTCAGTACTCCACTGTGC...</td>\n",
       "    </tr>\n",
       "    <tr>\n",
       "      <th>1</th>\n",
       "      <td>ENSMUST00020181793.1</td>\n",
       "      <td>scaffold:GRCm39:GL456372.1:13262:13382:-1</td>\n",
       "      <td>gene:ENSMUSG00002074899.1</td>\n",
       "      <td>gene_biotype:miRNA</td>\n",
       "      <td>ACACCTTCTGCTGGAGACAATATAAGGACATTGGAAGAAGGGAGTC...</td>\n",
       "    </tr>\n",
       "    <tr>\n",
       "      <th>2</th>\n",
       "      <td>ENSMUST00020183073.1</td>\n",
       "      <td>scaffold:GRCm39:GL456381.1:16623:16721:-1</td>\n",
       "      <td>gene:ENSMUSG00002076890.1</td>\n",
       "      <td>gene_biotype:miRNA</td>\n",
       "      <td>TGTGTTGTCACAGTGCTCCACTGTGATATCACAGTGTTGCGCTTTG...</td>\n",
       "    </tr>\n",
       "    <tr>\n",
       "      <th>3</th>\n",
       "      <td>ENSMUST00020182238.1</td>\n",
       "      <td>scaffold:GRCm39:GL456385.1:31243:31343:1</td>\n",
       "      <td>gene:ENSMUSG00002074970.1</td>\n",
       "      <td>gene_biotype:miRNA</td>\n",
       "      <td>GAAATGCCTCCATGAGATCCAACTGTAAGGCATTTTCTCAATTAGT...</td>\n",
       "    </tr>\n",
       "    <tr>\n",
       "      <th>4</th>\n",
       "      <td>ENSMUST00020182428.1</td>\n",
       "      <td>scaffold:GRCm39:GL456385.1:32719:32818:1</td>\n",
       "      <td>gene:ENSMUSG00002075729.1</td>\n",
       "      <td>gene_biotype:miRNA</td>\n",
       "      <td>GAAATGCCTCCATGAGATCCAACTGTAAGGCATTTTCTCAATTAGT...</td>\n",
       "    </tr>\n",
       "  </tbody>\n",
       "</table>\n",
       "</div>"
      ],
      "text/plain": [
       "                     ID                                   describe  \\\n",
       "0  ENSMUST00020181715.1   scaffold:GRCm39:GL456239.1:38438:38535:1   \n",
       "1  ENSMUST00020181793.1  scaffold:GRCm39:GL456372.1:13262:13382:-1   \n",
       "2  ENSMUST00020183073.1  scaffold:GRCm39:GL456381.1:16623:16721:-1   \n",
       "3  ENSMUST00020182238.1   scaffold:GRCm39:GL456385.1:31243:31343:1   \n",
       "4  ENSMUST00020182428.1   scaffold:GRCm39:GL456385.1:32719:32818:1   \n",
       "\n",
       "                        gene             biotype  \\\n",
       "0  gene:ENSMUSG00002075400.1  gene_biotype:miRNA   \n",
       "1  gene:ENSMUSG00002074899.1  gene_biotype:miRNA   \n",
       "2  gene:ENSMUSG00002076890.1  gene_biotype:miRNA   \n",
       "3  gene:ENSMUSG00002074970.1  gene_biotype:miRNA   \n",
       "4  gene:ENSMUSG00002075729.1  gene_biotype:miRNA   \n",
       "\n",
       "                                                 seq  \n",
       "0  CTTTGGTGTCACAATGCTCCACTGTGATGTCAGTACTCCACTGTGC...  \n",
       "1  ACACCTTCTGCTGGAGACAATATAAGGACATTGGAAGAAGGGAGTC...  \n",
       "2  TGTGTTGTCACAGTGCTCCACTGTGATATCACAGTGTTGCGCTTTG...  \n",
       "3  GAAATGCCTCCATGAGATCCAACTGTAAGGCATTTTCTCAATTAGT...  \n",
       "4  GAAATGCCTCCATGAGATCCAACTGTAAGGCATTTTCTCAATTAGT...  "
      ]
     },
     "execution_count": 2,
     "metadata": {},
     "output_type": "execute_result"
    }
   ],
   "source": [
    "import pandas as pd\n",
    "\n",
    "rna_df = pd.DataFrame(rna_info,columns=[\"ID\",\"describe\",\"gene\",\"biotype\",\"seq\"])\n",
    "rna_df[rna_df.columns.values][rna_df[\"biotype\"] == \"gene_biotype:miRNA\"].to_csv(\"miRNA.csv\",index=False)\n",
    "miRNA = pd.read_csv(\"miRNA.csv\")\n",
    "miRNA.head()"
   ]
  }
 ],
 "metadata": {
  "kernelspec": {
   "display_name": ".venv",
   "language": "python",
   "name": "python3"
  },
  "language_info": {
   "codemirror_mode": {
    "name": "ipython",
    "version": 3
   },
   "file_extension": ".py",
   "mimetype": "text/x-python",
   "name": "python",
   "nbconvert_exporter": "python",
   "pygments_lexer": "ipython3",
   "version": "3.9.6"
  },
  "orig_nbformat": 4
 },
 "nbformat": 4,
 "nbformat_minor": 2
}
