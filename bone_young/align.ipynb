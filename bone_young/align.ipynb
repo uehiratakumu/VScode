{
 "cells": [
  {
   "cell_type": "code",
   "execution_count": null,
   "metadata": {},
   "outputs": [],
   "source": [
    "import numpy as np\n",
    "\n",
    "def is_inside_existing_spheres(point, centers, radius):\n",
    "    \"\"\"指定された点が既存の球の中にあるかを確認する関数\"\"\"\n",
    "    for center in centers:\n",
    "        distance = np.linalg.norm(np.array(center) - np.array(point))\n",
    "        if distance < 2 * radius:\n",
    "            return True\n",
    "    return False\n",
    "\n",
    "def find_maximum_spheres(cube_size, radius, max_iterations=10000):\n",
    "    \"\"\"指定された立方体の中に最大数の球を配置する関数\"\"\"\n",
    "    sphere_centers = []\n",
    "    \n",
    "    for _ in range(max_iterations):\n",
    "        # 立方体の中にランダムに点を配置\n",
    "        random_point = [np.random.randint(radius, cube_size - radius),\n",
    "                        np.random.randint(radius, cube_size - radius),\n",
    "                        np.random.randint(radius, cube_size - radius)]\n",
    "        \n",
    "        # その点が既存の球の中にない場合、新しい球の中心として追加\n",
    "        if not is_inside_existing_spheres(random_point, sphere_centers, radius):\n",
    "            sphere_centers.append(random_point)\n",
    "    \n",
    "    return sphere_centers\n",
    "\n",
    "# 10回繰り返して、配置可能な球の数が最大のものを選択\n",
    "mesh =50\n",
    "r =8\n",
    "N = 50\n",
    "num_centers = []\n",
    "best_centers = []\n",
    "best_count = 0\n",
    "for _ in range(N):\n",
    "    current_centers = find_maximum_spheres(mesh,r)\n",
    "    if len(current_centers) > best_count:\n",
    "        best_count = len(current_centers)\n",
    "        best_centers = current_centers\n",
    "    num_centers.append(len(best_centers))\n",
    "print(len(best_centers))\n",
    "print(best_centers)\n"
   ]
  },
  {
   "cell_type": "code",
   "execution_count": null,
   "metadata": {},
   "outputs": [],
   "source": []
  },
  {
   "cell_type": "code",
   "execution_count": null,
   "metadata": {},
   "outputs": [],
   "source": [
    "num_centers"
   ]
  },
  {
   "cell_type": "code",
   "execution_count": null,
   "metadata": {},
   "outputs": [],
   "source": [
    "import matplotlib.pyplot as plt\n",
    "x = []\n",
    "for i in range(len(num_centers)):\n",
    "    x.append(i)\n",
    "y = num_centers\n",
    "plt.plot(x,y)"
   ]
  },
  {
   "cell_type": "code",
   "execution_count": null,
   "metadata": {},
   "outputs": [],
   "source": [
    "path =\"initial_shape\"\n",
    "\n",
    "with open(path) as f:\n",
    "    initial_data= f.readlines()\n",
    "    "
   ]
  },
  {
   "cell_type": "code",
   "execution_count": null,
   "metadata": {},
   "outputs": [],
   "source": [
    "initial_data_1 = [list(s.rstrip()) for s in initial_data]\n",
    "#initial_data_1[3]"
   ]
  },
  {
   "cell_type": "code",
   "execution_count": null,
   "metadata": {},
   "outputs": [],
   "source": [
    "bone = [[[1]*mesh]*mesh]*mesh"
   ]
  },
  {
   "cell_type": "code",
   "execution_count": null,
   "metadata": {},
   "outputs": [],
   "source": [
    "t =\"\"\n",
    "for i in range(mesh):\n",
    "    t+= \"9\"\n",
    "plate =[]\n",
    "for i in range(mesh):\n",
    "    plate.append(t)    "
   ]
  },
  {
   "cell_type": "code",
   "execution_count": null,
   "metadata": {},
   "outputs": [],
   "source": [
    "t =\"\"\n",
    "for i in range(mesh):\n",
    "    t+= \"1\"\n",
    "bone = []\n",
    "for i in range(mesh*mesh):\n",
    "    bone.append(t)\n",
    "\n",
    "for i in range(len(best_centers)):\n",
    "    x =[]\n",
    "    x = list(bone[50*(best_centers[i][0]-1)+(best_centers[i][1]-1)])\n",
    "    x[best_centers[i][2]-1] = \"2\"\n",
    "    print(\"\".join(x))\n",
    "    print(best_centers[i][0]-1)\n",
    "    bone[50*(best_centers[i][0]-1)+(best_centers[i][1]-1)] = \"\".join(x)"
   ]
  },
  {
   "cell_type": "code",
   "execution_count": null,
   "metadata": {},
   "outputs": [],
   "source": [
    "len(bone)"
   ]
  },
  {
   "cell_type": "code",
   "execution_count": null,
   "metadata": {},
   "outputs": [],
   "source": [
    "shape_path =\"initial_shape_1\"\n",
    "with open(shape_path,mode = \"w\") as fw:\n",
    "    fw.write(initial_data[0].replace(\"0.15000000D-01\",\"1000.0d-3\"))\n",
    "    fw.write(initial_data[1].replace(\"53\",\"50\").replace(\"26\",\"50\"))  \n",
    "    \n",
    "    for i in range(3):\n",
    "        fw.write(\"%  \"+ str(i+1)+ \"\\n\")\n",
    "        for j in range(mesh):\n",
    "            s = plate[j]+ \"\\n\"\n",
    "            fw.write(s)\n",
    "    for i in range(mesh):\n",
    "        fw.write(\"%  \"+ str(i+4)+ \"\\n\")\n",
    "        for j in range(mesh):\n",
    "            s = bone[50*(i-1)+(j-1)]+ \"\\n\"\n",
    "            fw.write(s)\n",
    "    for i in range(3):\n",
    "        fw.write(\"%  \"+ str(i+54)+ \"\\n\")\n",
    "        for j in range(mesh):\n",
    "            s = plate[j]+ \"\\n\"\n",
    "            fw.write(s)\n",
    "\n",
    "with open(shape_path,mode = \"r\") as f:\n",
    "        print(f.read())"
   ]
  },
  {
   "cell_type": "code",
   "execution_count": null,
   "metadata": {},
   "outputs": [],
   "source": [
    "bound_path = \"boundary_condition\"\n",
    "with open(bound_path,mode = \"r\") as f:\n",
    "        bound_data =f.readlines()"
   ]
  },
  {
   "cell_type": "code",
   "execution_count": null,
   "metadata": {},
   "outputs": [],
   "source": [
    "pi = 3.14159265358979323846\n",
    "r_ideal = 6.00\n",
    "nx_dp = 50\n",
    "ny_dp = 50\n",
    "load_tra = 20\n",
    "load_plate = ((pi * r_ideal**2.0) / (nx_dp*ny_dp)) * load_tra\n",
    "bound_data[0].replace(\"0.15000000D-01\",\"1000.0d-3\").replace(\"0.70685835D-01\",str(load_plate))\n",
    "\n",
    "NBOUV = 51*51*2 "
   ]
  },
  {
   "cell_type": "code",
   "execution_count": null,
   "metadata": {},
   "outputs": [],
   "source": [
    "bound_path = \"boundary_condition_1\"\n",
    "with open(bound_path,mode = \"w\") as fw:\n",
    "    fw.write(bound_data[0].replace(\"0.15000000D-01\",\"1000.0d-3\").replace(\"0.70685835D-01\",str(load_plate)))\n",
    "    fw.write(bound_data[1].replace(\"53\",\"50\").replace(\"26\",\"50\")) \n",
    "    fw.write(bound_data[2])\n",
    "    fw.write(bound_data[3].replace(\"2916\",str(NBOUV)))\n",
    "    fw.write(bound_data[4]) \n",
    "    i = 1\n",
    "    for j in range(mesh+1):\n",
    "        for k in range(mesh+1):\n",
    "            fw.write(\"       \"+str(i)+\"    \"+str(k)+\"   \"+str(j)+\"   0    1   1   0   0.00000000D+00  0.00000000D+00  0.37500000D-03\\n\")\n",
    "            i += 1\n",
    "    for j in range(mesh+1):\n",
    "        for k in range(mesh+1):\n",
    "            fw.write(\"       \"+str(i)+\"    \"+str(k)+\"   \"+str(j)+\"   56    1   1   0   0.00000000D+00  0.00000000D+00  0.37500000D-03\\n\") \n",
    "            i += 1\n"
   ]
  },
  {
   "cell_type": "code",
   "execution_count": null,
   "metadata": {},
   "outputs": [],
   "source": [
    "bound_path = \"boundary_condition_1\"\n",
    "with open(bound_path,mode = \"r\") as fw:\n",
    "    x = fw.readlines()"
   ]
  }
 ],
 "metadata": {
  "kernelspec": {
   "display_name": ".venv",
   "language": "python",
   "name": "python3"
  },
  "language_info": {
   "codemirror_mode": {
    "name": "ipython",
    "version": 3
   },
   "file_extension": ".py",
   "mimetype": "text/x-python",
   "name": "python",
   "nbconvert_exporter": "python",
   "pygments_lexer": "ipython3",
   "version": "3.9.6"
  },
  "orig_nbformat": 4
 },
 "nbformat": 4,
 "nbformat_minor": 2
}
