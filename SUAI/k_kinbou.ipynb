{
 "cells": [
  {
   "cell_type": "code",
   "execution_count": 9,
   "metadata": {},
   "outputs": [
    {
     "name": "stdout",
     "output_type": "stream",
     "text": [
      "['dog' 'dog' 'cat' 'cat']\n"
     ]
    }
   ],
   "source": [
    "import scipy.spatial.distance as distance\n",
    "import scipy.stats as stats\n",
    "import numpy as np\n",
    "\n",
    "def kneighbors(X_new, X, n_neighbors, metric='euclidean'):\n",
    "    dist = distance.cdist(X_new, X, metric)\n",
    "    k = n_neighbors\n",
    "    neigh_ind = np.argpartition(dist, k)[:, :k]\n",
    "    return neigh_ind\n",
    "\n",
    "def predict_fixed(X_new, X, y, n_neighbors, metric=\"euclidean\"):\n",
    "    \"\"\"Predict the class labels for the provided data.\"\"\"\n",
    "    classes, _y = np.unique(y, return_inverse=True)\n",
    "    neigh_ind = kneighbors(X_new, X, n_neighbors, metric)\n",
    "    \n",
    "    class_ind,_ = stats.mode(_y[neigh_ind], axis=1)\n",
    "    \n",
    "    y_pred = classes.take(class_ind).ravel()\n",
    "    return y_pred\n",
    "\n",
    "# テスト部分\n",
    "X = np.array([[1,0.5],[0.5,0.7],[0.6,0.3],[-0.5,0.4],[-0.1,0.6]])\n",
    "X_new = np.array([[-1.0,0.5],[-0.1,0.7],[0.5,0.7],[1.5,0.6]])\n",
    "y = [\"cat\",\"cat\",\"cat\",\"dog\",\"dog\"]\n",
    "\n",
    "y_pred_fixed = predict_fixed(X_new, X, y, n_neighbors=2)\n",
    "print(y_pred_fixed)\n"
   ]
  }
 ],
 "metadata": {
  "kernelspec": {
   "display_name": "Python 3",
   "language": "python",
   "name": "python3"
  },
  "language_info": {
   "codemirror_mode": {
    "name": "ipython",
    "version": 3
   },
   "file_extension": ".py",
   "mimetype": "text/x-python",
   "name": "python",
   "nbconvert_exporter": "python",
   "pygments_lexer": "ipython3",
   "version": "3.11.6"
  }
 },
 "nbformat": 4,
 "nbformat_minor": 2
}
