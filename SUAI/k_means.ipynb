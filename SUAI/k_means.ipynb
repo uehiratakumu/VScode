{
 "cells": [
  {
   "cell_type": "code",
   "execution_count": 4,
   "metadata": {},
   "outputs": [
    {
     "name": "stdout",
     "output_type": "stream",
     "text": [
      "[[-1.  0.]\n",
      " [ 2. -2.]\n",
      " [ 0.  1.]]\n"
     ]
    }
   ],
   "source": [
    "import numpy as np\n",
    "import scipy.spatial.distance as distance\n",
    "\n",
    "def k_init_fixed_v3(X, n_clusters):\n",
    "    \"\"\"k-means++\n",
    "    \n",
    "    Parameters\n",
    "    ----------\n",
    "    X: array or sparse matrix, shape (n_samples, n_features)\n",
    "        The data.\n",
    "    n_clusters : integer\n",
    "        The number of clusters\n",
    "    \n",
    "    Returns\n",
    "    -------\n",
    "    centers : array of shape (n_clusters, n_features)\n",
    "        Initial centers for k-means\n",
    "    \"\"\"\n",
    "    \n",
    "    np.random.seed(12345)\n",
    "    n_samples, n_features = X.shape\n",
    "    \n",
    "    centers = np.empty((n_clusters, n_features), dtype=X.dtype)\n",
    "    center_id = np.random.randint(n_samples)\n",
    "    centers[0] = X[center_id]\n",
    "\n",
    "    closest_dist_sq = distance.cdist(X, centers[0:1], metric=\"sqeuclidean\").min(axis=1)\n",
    "    current_pot = closest_dist_sq.sum()\n",
    "\n",
    "    for c in range(1, n_clusters):\n",
    "        rand_val = np.random.random_sample(1) * current_pot\n",
    "        center_id = np.searchsorted(np.cumsum(closest_dist_sq), rand_val)[0]\n",
    "        centers[c] = X[center_id]\n",
    "\n",
    "        new_dist_sq = distance.cdist(X, centers[c:c+1], metric=\"sqeuclidean\").flatten()\n",
    "        closest_dist_sq = np.minimum(closest_dist_sq, new_dist_sq)\n",
    "        current_pot = closest_dist_sq.sum()\n",
    "\n",
    "    return centers\n",
    "\n",
    "# Test data\n",
    "X = np.array([\n",
    "    [0, 0], [1, 0], [-1, 0],\n",
    "    [0, 1], [0, -1], [-1, 1], [-1, -1],\n",
    "    [0, 0.5], [0.5, 0.5], [0.5, 0],\n",
    "    [1,2],[-1,2],[-2,-2],\n",
    "    [-3, 3], [-2, 0], [2, -2]\n",
    "])\n",
    "\n",
    "# Testing the fixed function\n",
    "centers_fixed_v3 = k_init_fixed_v3(X, n_clusters=3)\n",
    "print(centers_fixed_v3)\n"
   ]
  }
 ],
 "metadata": {
  "kernelspec": {
   "display_name": "Python 3",
   "language": "python",
   "name": "python3"
  },
  "language_info": {
   "codemirror_mode": {
    "name": "ipython",
    "version": 3
   },
   "file_extension": ".py",
   "mimetype": "text/x-python",
   "name": "python",
   "nbconvert_exporter": "python",
   "pygments_lexer": "ipython3",
   "version": "3.11.6"
  }
 },
 "nbformat": 4,
 "nbformat_minor": 2
}
