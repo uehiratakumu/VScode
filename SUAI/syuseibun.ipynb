{
 "cells": [
  {
   "cell_type": "code",
   "execution_count": 1,
   "metadata": {},
   "outputs": [
    {
     "data": {
      "text/plain": [
       "((15, 1),\n",
       " array([[-12.50951953],\n",
       "        [-16.33999601],\n",
       "        [-13.3691643 ],\n",
       "        [-23.56119428],\n",
       "        [-12.55737682],\n",
       "        [  6.87493232],\n",
       "        [ -7.51147889],\n",
       "        [  7.51063571],\n",
       "        [ 13.67624051],\n",
       "        [ 14.45190727],\n",
       "        [  1.48499427],\n",
       "        [  7.59461373],\n",
       "        [  5.5674048 ],\n",
       "        [ 12.78860307],\n",
       "        [ 15.89939814]]))"
      ]
     },
     "execution_count": 1,
     "metadata": {},
     "output_type": "execute_result"
    }
   ],
   "source": [
    "import numpy as np\n",
    "import pandas as pd\n",
    "\n",
    "def svd(A):\n",
    "    \"\"\"\n",
    "    Singular Value Decomposition\n",
    "    \"\"\"\n",
    "    B = np.dot(A.T, A)\n",
    "    eigen_values, eigen_vectors = np.linalg.eig(B)\n",
    "    singular_values = np.sqrt(eigen_values)\n",
    "    singular_index = np.argsort(singular_values)[::-1]\n",
    "\n",
    "    # Construct the S matrix with the correct shape\n",
    "    S = np.zeros(A.shape)\n",
    "    np.fill_diagonal(S, singular_values[singular_index])\n",
    "\n",
    "    V = eigen_vectors[:, singular_index]\n",
    "    dig = S.diagonal()\n",
    "    U = [np.dot(A, V[:, i]) / dig[i] for i in range(len(dig))]\n",
    "    U = np.array(U).T\n",
    "\n",
    "    return U, S, V\n",
    "\n",
    "def pca(X, n_components):\n",
    "    \"\"\"Principal Component Analysis\n",
    "\n",
    "    Parameters\n",
    "\n",
    "    X: array-like, shape (n_samples, n_features)\n",
    "    n_components : int\n",
    "    Number of components to keep\n",
    "\n",
    "    Returns\n",
    "\n",
    "    X_new : array-like, shape (n_samples, n_features)\n",
    "    Array of dimensionally reduction on X\n",
    "    \"\"\"\n",
    "    X = X - X.mean(axis=0)\n",
    "    U, S, V = svd(X)\n",
    "    n = n_components\n",
    "    X_new = np.dot(U[:, :n], S[:n, :n])\n",
    "    return X_new\n",
    "\n",
    "# Sample data and PCA results using the corrected functions\n",
    "math = np.array([41,37,40,30,40,60,46,61,67,68,55,61,59,66,69])\n",
    "physics = np.array([26,32,31,24,60,40,26,27,33,25,26,30,29,37,41])\n",
    "X = np.vstack((math, physics)).T\n",
    "X_new = pca(X, n_components=1)\n",
    "X_new.shape, X_new\n"
   ]
  },
  {
   "cell_type": "code",
   "execution_count": 3,
   "metadata": {},
   "outputs": [
    {
     "ename": "ValueError",
     "evalue": "diag requires an array of at least two dimensions",
     "output_type": "error",
     "traceback": [
      "\u001b[1;31m---------------------------------------------------------------------------\u001b[0m",
      "\u001b[1;31mValueError\u001b[0m                                Traceback (most recent call last)",
      "\u001b[1;32mc:\\Users\\takum\\OneDrive - Kyoto University\\ドキュメント\\VScode\\VScode\\SUAI\\syuseibun.ipynb セル 2\u001b[0m line \u001b[0;36m7\n\u001b[0;32m      <a href='vscode-notebook-cell:/c%3A/Users/takum/OneDrive%20-%20Kyoto%20University/%E3%83%89%E3%82%AD%E3%83%A5%E3%83%A1%E3%83%B3%E3%83%88/VScode/VScode/SUAI/syuseibun.ipynb#W1sZmlsZQ%3D%3D?line=3'>4</a>\u001b[0m physics \u001b[39m=\u001b[39m np\u001b[39m.\u001b[39marray([\u001b[39m26\u001b[39m,\u001b[39m32\u001b[39m,\u001b[39m31\u001b[39m,\u001b[39m24\u001b[39m,\u001b[39m60\u001b[39m,\u001b[39m40\u001b[39m,\u001b[39m26\u001b[39m,\u001b[39m27\u001b[39m,\u001b[39m33\u001b[39m,\u001b[39m25\u001b[39m,\u001b[39m26\u001b[39m,\u001b[39m30\u001b[39m,\u001b[39m29\u001b[39m,\u001b[39m37\u001b[39m,\u001b[39m41\u001b[39m])\n\u001b[0;32m      <a href='vscode-notebook-cell:/c%3A/Users/takum/OneDrive%20-%20Kyoto%20University/%E3%83%89%E3%82%AD%E3%83%A5%E3%83%A1%E3%83%B3%E3%83%88/VScode/VScode/SUAI/syuseibun.ipynb#W1sZmlsZQ%3D%3D?line=4'>5</a>\u001b[0m X \u001b[39m=\u001b[39m np\u001b[39m.\u001b[39mvstack((math, physics))\u001b[39m.\u001b[39mT\n\u001b[1;32m----> <a href='vscode-notebook-cell:/c%3A/Users/takum/OneDrive%20-%20Kyoto%20University/%E3%83%89%E3%82%AD%E3%83%A5%E3%83%A1%E3%83%B3%E3%83%88/VScode/VScode/SUAI/syuseibun.ipynb#W1sZmlsZQ%3D%3D?line=6'>7</a>\u001b[0m X_new \u001b[39m=\u001b[39m pca(X, n_components\u001b[39m=\u001b[39;49m\u001b[39m1\u001b[39;49m)\n\u001b[0;32m      <a href='vscode-notebook-cell:/c%3A/Users/takum/OneDrive%20-%20Kyoto%20University/%E3%83%89%E3%82%AD%E3%83%A5%E3%83%A1%E3%83%B3%E3%83%88/VScode/VScode/SUAI/syuseibun.ipynb#W1sZmlsZQ%3D%3D?line=7'>8</a>\u001b[0m \u001b[39mprint\u001b[39m(X_new\u001b[39m.\u001b[39mshape)\n\u001b[0;32m      <a href='vscode-notebook-cell:/c%3A/Users/takum/OneDrive%20-%20Kyoto%20University/%E3%83%89%E3%82%AD%E3%83%A5%E3%83%A1%E3%83%B3%E3%83%88/VScode/VScode/SUAI/syuseibun.ipynb#W1sZmlsZQ%3D%3D?line=8'>9</a>\u001b[0m \u001b[39mprint\u001b[39m(X_new)\n",
      "\u001b[1;32mc:\\Users\\takum\\OneDrive - Kyoto University\\ドキュメント\\VScode\\VScode\\SUAI\\syuseibun.ipynb セル 2\u001b[0m line \u001b[0;36m4\n\u001b[0;32m     <a href='vscode-notebook-cell:/c%3A/Users/takum/OneDrive%20-%20Kyoto%20University/%E3%83%89%E3%82%AD%E3%83%A5%E3%83%A1%E3%83%B3%E3%83%88/VScode/VScode/SUAI/syuseibun.ipynb#W1sZmlsZQ%3D%3D?line=33'>34</a>\u001b[0m \u001b[39m    \u001b[39m\u001b[39m\"\"\"Principal Component Analysis\u001b[39;00m\n\u001b[0;32m     <a href='vscode-notebook-cell:/c%3A/Users/takum/OneDrive%20-%20Kyoto%20University/%E3%83%89%E3%82%AD%E3%83%A5%E3%83%A1%E3%83%B3%E3%83%88/VScode/VScode/SUAI/syuseibun.ipynb#W1sZmlsZQ%3D%3D?line=34'>35</a>\u001b[0m \n\u001b[0;32m     <a href='vscode-notebook-cell:/c%3A/Users/takum/OneDrive%20-%20Kyoto%20University/%E3%83%89%E3%82%AD%E3%83%A5%E3%83%A1%E3%83%B3%E3%83%88/VScode/VScode/SUAI/syuseibun.ipynb#W1sZmlsZQ%3D%3D?line=35'>36</a>\u001b[0m \u001b[39m    Parameters\u001b[39;00m\n\u001b[1;32m   (...)\u001b[0m\n\u001b[0;32m     <a href='vscode-notebook-cell:/c%3A/Users/takum/OneDrive%20-%20Kyoto%20University/%E3%83%89%E3%82%AD%E3%83%A5%E3%83%A1%E3%83%B3%E3%83%88/VScode/VScode/SUAI/syuseibun.ipynb#W1sZmlsZQ%3D%3D?line=45'>46</a>\u001b[0m \u001b[39m    Array of dimensionaly reduction on X\u001b[39;00m\n\u001b[0;32m     <a href='vscode-notebook-cell:/c%3A/Users/takum/OneDrive%20-%20Kyoto%20University/%E3%83%89%E3%82%AD%E3%83%A5%E3%83%A1%E3%83%B3%E3%83%88/VScode/VScode/SUAI/syuseibun.ipynb#W1sZmlsZQ%3D%3D?line=46'>47</a>\u001b[0m \u001b[39m\"\"\"\u001b[39;00m\n\u001b[0;32m     <a href='vscode-notebook-cell:/c%3A/Users/takum/OneDrive%20-%20Kyoto%20University/%E3%83%89%E3%82%AD%E3%83%A5%E3%83%A1%E3%83%B3%E3%83%88/VScode/VScode/SUAI/syuseibun.ipynb#W1sZmlsZQ%3D%3D?line=47'>48</a>\u001b[0m     X \u001b[39m=\u001b[39m X \u001b[39m-\u001b[39m X\u001b[39m.\u001b[39mmean(axis\u001b[39m=\u001b[39m\u001b[39m0\u001b[39m)\n\u001b[1;32m---> <a href='vscode-notebook-cell:/c%3A/Users/takum/OneDrive%20-%20Kyoto%20University/%E3%83%89%E3%82%AD%E3%83%A5%E3%83%A1%E3%83%B3%E3%83%88/VScode/VScode/SUAI/syuseibun.ipynb#W1sZmlsZQ%3D%3D?line=48'>49</a>\u001b[0m     U, S, V \u001b[39m=\u001b[39m svd(X)\n\u001b[0;32m     <a href='vscode-notebook-cell:/c%3A/Users/takum/OneDrive%20-%20Kyoto%20University/%E3%83%89%E3%82%AD%E3%83%A5%E3%83%A1%E3%83%B3%E3%83%88/VScode/VScode/SUAI/syuseibun.ipynb#W1sZmlsZQ%3D%3D?line=49'>50</a>\u001b[0m     n\u001b[39m=\u001b[39m n_components\n\u001b[0;32m     <a href='vscode-notebook-cell:/c%3A/Users/takum/OneDrive%20-%20Kyoto%20University/%E3%83%89%E3%82%AD%E3%83%A5%E3%83%A1%E3%83%B3%E3%83%88/VScode/VScode/SUAI/syuseibun.ipynb#W1sZmlsZQ%3D%3D?line=51'>52</a>\u001b[0m     \u001b[39m# X_new =X*V=U*S*VAT*V=U*S\u001b[39;00m\n",
      "\u001b[1;32mc:\\Users\\takum\\OneDrive - Kyoto University\\ドキュメント\\VScode\\VScode\\SUAI\\syuseibun.ipynb セル 2\u001b[0m line \u001b[0;36m2\n\u001b[0;32m     <a href='vscode-notebook-cell:/c%3A/Users/takum/OneDrive%20-%20Kyoto%20University/%E3%83%89%E3%82%AD%E3%83%A5%E3%83%A1%E3%83%B3%E3%83%88/VScode/VScode/SUAI/syuseibun.ipynb#W1sZmlsZQ%3D%3D?line=15'>16</a>\u001b[0m singular_index \u001b[39m=\u001b[39m np\u001b[39m.\u001b[39margsort(singular_values)[::\u001b[39m-\u001b[39m\u001b[39m1\u001b[39m]\n\u001b[0;32m     <a href='vscode-notebook-cell:/c%3A/Users/takum/OneDrive%20-%20Kyoto%20University/%E3%83%89%E3%82%AD%E3%83%A5%E3%83%A1%E3%83%B3%E3%83%88/VScode/VScode/SUAI/syuseibun.ipynb#W1sZmlsZQ%3D%3D?line=17'>18</a>\u001b[0m \u001b[39m# FGF RMBITIVZ(SigmaJEROS\u001b[39;00m\n\u001b[1;32m---> <a href='vscode-notebook-cell:/c%3A/Users/takum/OneDrive%20-%20Kyoto%20University/%E3%83%89%E3%82%AD%E3%83%A5%E3%83%A1%E3%83%B3%E3%83%88/VScode/VScode/SUAI/syuseibun.ipynb#W1sZmlsZQ%3D%3D?line=19'>20</a>\u001b[0m S\u001b[39m=\u001b[39m np\u001b[39m.\u001b[39;49mdiagonal(singular_values[singular_index])\n\u001b[0;32m     <a href='vscode-notebook-cell:/c%3A/Users/takum/OneDrive%20-%20Kyoto%20University/%E3%83%89%E3%82%AD%E3%83%A5%E3%83%A1%E3%83%B3%E3%83%88/VScode/VScode/SUAI/syuseibun.ipynb#W1sZmlsZQ%3D%3D?line=21'>22</a>\u001b[0m \u001b[39m# BRB RITWEROS\u001b[39;00m\n\u001b[0;32m     <a href='vscode-notebook-cell:/c%3A/Users/takum/OneDrive%20-%20Kyoto%20University/%E3%83%89%E3%82%AD%E3%83%A5%E3%83%A1%E3%83%B3%E3%83%88/VScode/VScode/SUAI/syuseibun.ipynb#W1sZmlsZQ%3D%3D?line=22'>23</a>\u001b[0m V \u001b[39m=\u001b[39m eigen_vectors[:,singular_index]\n",
      "File \u001b[1;32m~\\AppData\\Local\\Packages\\PythonSoftwareFoundation.Python.3.11_qbz5n2kfra8p0\\LocalCache\\local-packages\\Python311\\site-packages\\numpy\\core\\fromnumeric.py:1692\u001b[0m, in \u001b[0;36mdiagonal\u001b[1;34m(a, offset, axis1, axis2)\u001b[0m\n\u001b[0;32m   1690\u001b[0m     \u001b[39mreturn\u001b[39;00m asarray(a)\u001b[39m.\u001b[39mdiagonal(offset\u001b[39m=\u001b[39moffset, axis1\u001b[39m=\u001b[39maxis1, axis2\u001b[39m=\u001b[39maxis2)\n\u001b[0;32m   1691\u001b[0m \u001b[39melse\u001b[39;00m:\n\u001b[1;32m-> 1692\u001b[0m     \u001b[39mreturn\u001b[39;00m asanyarray(a)\u001b[39m.\u001b[39;49mdiagonal(offset\u001b[39m=\u001b[39;49moffset, axis1\u001b[39m=\u001b[39;49maxis1, axis2\u001b[39m=\u001b[39;49maxis2)\n",
      "\u001b[1;31mValueError\u001b[0m: diag requires an array of at least two dimensions"
     ]
    }
   ],
   "source": [
    "# RTA\n",
    "\n",
    "\n"
   ]
  }
 ],
 "metadata": {
  "kernelspec": {
   "display_name": "Python 3",
   "language": "python",
   "name": "python3"
  },
  "language_info": {
   "codemirror_mode": {
    "name": "ipython",
    "version": 3
   },
   "file_extension": ".py",
   "mimetype": "text/x-python",
   "name": "python",
   "nbconvert_exporter": "python",
   "pygments_lexer": "ipython3",
   "version": "3.11.6"
  }
 },
 "nbformat": 4,
 "nbformat_minor": 2
}
