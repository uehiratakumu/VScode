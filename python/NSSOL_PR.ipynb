{
 "cells": [
  {
   "cell_type": "code",
   "execution_count": 1,
   "metadata": {},
   "outputs": [
    {
     "data": {
      "text/plain": [
       "'/Users/takumu/VScode/VScode/python/chromedriver'"
      ]
     },
     "execution_count": 1,
     "metadata": {},
     "output_type": "execute_result"
    }
   ],
   "source": [
    "import chromedriver_binary_sync\n",
    "\n",
    "chromedriver_binary_sync.download()"
   ]
  },
  {
   "cell_type": "code",
   "execution_count": 2,
   "metadata": {},
   "outputs": [],
   "source": [
    "# 必要なライブラリのインポート\n",
    "import lxml\n",
    "from bs4 import BeautifulSoup\n",
    "from selenium import webdriver\n",
    "import chromedriver_binary\n",
    "import time\n",
    "from selenium.webdriver.common.by import By\n",
    "from selenium.webdriver.common.keys import Keys\n",
    "import pandas as pd\n",
    "from selenium.webdriver.chrome.options import Options\n",
    "\n",
    "# 警告の非表示\n",
    "import warnings\n",
    "warnings.filterwarnings('ignore')\n",
    "\n",
    "# Chromeのオプション設定\n",
    "options = Options()\n",
    "options.add_argument('--headless')  # ヘッドレスモード（ブラウザのUIなしで動作）\n",
    "driver = webdriver.Chrome(options=options)  # オプションを使用してChromeドライバーを起動\n",
    "\n",
    "# NSSOLのPRのURL\n",
    "url = 'https://www.nssol.nipponsteel.com/press/' "
   ]
  },
  {
   "cell_type": "code",
   "execution_count": 3,
   "metadata": {},
   "outputs": [],
   "source": [
    "date_selector = \"body > div.l-wrap > main > div:nth-child(3) > div:nth-child(3) > div > ul > li:nth-child(1) > div > div.press-item__header > span.press-item__date\""
   ]
  },
  {
   "cell_type": "code",
   "execution_count": 4,
   "metadata": {},
   "outputs": [],
   "source": [
    "driver.get(url)  # NSSOL_PRにアクセス\n",
    "time.sleep(1)  # 0.5秒待機"
   ]
  },
  {
   "cell_type": "code",
   "execution_count": 5,
   "metadata": {},
   "outputs": [
    {
     "name": "stdout",
     "output_type": "stream",
     "text": [
      "2023年12月20日\n"
     ]
    }
   ],
   "source": [
    "#date_selector = \"body > div.l-wrap > header > div > a > img\"\n",
    "date_select = driver.find_element(By.CSS_SELECTOR, date_selector)\n",
    "date_select_text =date_select.text\n",
    "# ブラウザを終了\n",
    "driver.quit()\n",
    "\n",
    "print(date_select_text)"
   ]
  },
  {
   "cell_type": "code",
   "execution_count": null,
   "metadata": {},
   "outputs": [],
   "source": [
    "selector =\"#body > div.v2-main-column > div.v2-company-experiences-list > div > div:nth-child(2) > a > div > div.v2-experiences__text-summary\""
   ]
  },
  {
   "cell_type": "code",
   "execution_count": null,
   "metadata": {},
   "outputs": [],
   "source": [
    "soup.select_one(selector).get_text()  "
   ]
  },
  {
   "cell_type": "code",
   "execution_count": null,
   "metadata": {},
   "outputs": [],
   "source": [
    "s = soup.select_one(selector).get_text() "
   ]
  },
  {
   "cell_type": "code",
   "execution_count": null,
   "metadata": {},
   "outputs": [],
   "source": [
    "path = 'NSSOL_PR.txt'\n",
    "with open(path, mode='w') as f:\n",
    "    f.write(s)"
   ]
  },
  {
   "cell_type": "code",
   "execution_count": null,
   "metadata": {},
   "outputs": [],
   "source": [
    "with open(path, mode='r') as f:\n",
    "    t =f.read()\n",
    "    if s == t:\n",
    "        print(\"更新なし\")\n",
    "    else:\n",
    "        print(\"更新あり:https://www.onecareer.jp/companies/523/experiences\")"
   ]
  },
  {
   "cell_type": "code",
   "execution_count": null,
   "metadata": {},
   "outputs": [],
   "source": [
    "import requests\n",
    "\n",
    "# トークンを確認してください\n",
    "TOKEN = \"JEf8loIMcsRM87uPfElmVtWVAC9kFlbPdzVXCvYoKMj\"\n",
    "\n",
    "headers = {'Authorization': f'Bearer {TOKEN}'}\n",
    "data = {'message': s}\n",
    "\n",
    "response = requests.post('https://notify-api.line.me/api/notify', headers=headers, data=data)\n",
    "print(response)\n"
   ]
  },
  {
   "cell_type": "code",
   "execution_count": null,
   "metadata": {},
   "outputs": [],
   "source": [
    "print(response.text)"
   ]
  },
  {
   "cell_type": "code",
   "execution_count": null,
   "metadata": {},
   "outputs": [],
   "source": []
  }
 ],
 "metadata": {
  "kernelspec": {
   "display_name": ".venv",
   "language": "python",
   "name": "python3"
  },
  "language_info": {
   "codemirror_mode": {
    "name": "ipython",
    "version": 3
   },
   "file_extension": ".py",
   "mimetype": "text/x-python",
   "name": "python",
   "nbconvert_exporter": "python",
   "pygments_lexer": "ipython3",
   "version": "3.9.6"
  }
 },
 "nbformat": 4,
 "nbformat_minor": 2
}
