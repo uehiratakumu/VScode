{
 "cells": [
  {
   "cell_type": "code",
   "execution_count": 12,
   "metadata": {},
   "outputs": [],
   "source": [
    "import requests\n",
    "import json\n",
    "from datetime import datetime\n",
    "from notion_client import Client\n",
    "import time\n"
   ]
  },
  {
   "cell_type": "code",
   "execution_count": 13,
   "metadata": {},
   "outputs": [],
   "source": [
    "# Notionの設定\n",
    "NOTION_TOKEN = 'secret_pMxaM5YGtPEsv5oMuYlp8rznFvTNpq49BsRtycAjmRf'\n",
    "NOTION_DATABASE_ID = 'f54f4039f42540fda25df2829cd74054'\n"
   ]
  },
  {
   "cell_type": "code",
   "execution_count": 16,
   "metadata": {},
   "outputs": [
    {
     "ename": "KeyboardInterrupt",
     "evalue": "",
     "output_type": "error",
     "traceback": [
      "\u001b[0;31m---------------------------------------------------------------------------\u001b[0m",
      "\u001b[0;31mKeyboardInterrupt\u001b[0m                         Traceback (most recent call last)",
      "Cell \u001b[0;32mIn[16], line 24\u001b[0m\n\u001b[1;32m     22\u001b[0m \u001b[38;5;28;01mwhile\u001b[39;00m \u001b[38;5;28;01mTrue\u001b[39;00m:\n\u001b[1;32m     23\u001b[0m     add_timestamp_to_notion()\n\u001b[0;32m---> 24\u001b[0m     \u001b[43mtime\u001b[49m\u001b[38;5;241;43m.\u001b[39;49m\u001b[43msleep\u001b[49m\u001b[43m(\u001b[49m\u001b[38;5;241;43m600\u001b[39;49m\u001b[43m)\u001b[49m  \u001b[38;5;66;03m# 600秒待機\u001b[39;00m\n",
      "\u001b[0;31mKeyboardInterrupt\u001b[0m: "
     ]
    }
   ],
   "source": [
    "# Notionクライアントの初期化\n",
    "notion = Client(auth=NOTION_TOKEN)\n",
    "\n",
    "def add_timestamp_to_notion():\n",
    "    current_time = datetime.now().strftime(\"%Y-%m-%d %H:%M:%S\")\n",
    "    notion.pages.create(\n",
    "        parent={\"database_id\": NOTION_DATABASE_ID},\n",
    "        properties={\n",
    "            \"time_stamp\": {\n",
    "                \"title\": [\n",
    "                    {\n",
    "                        \"text\": {\n",
    "                            \"content\": f\"打刻: {current_time}\"\n",
    "                        }\n",
    "                    }\n",
    "                ]\n",
    "            }\n",
    "        }\n",
    "    )\n",
    "\n",
    "# 10分ごとに実行\n",
    "while True:\n",
    "    add_timestamp_to_notion()\n",
    "    time.sleep(600)  # 600秒待機\n"
   ]
  },
  {
   "cell_type": "code",
   "execution_count": 10,
   "metadata": {},
   "outputs": [
    {
     "name": "stdout",
     "output_type": "stream",
     "text": [
      "{'object': 'database', 'id': 'f54f4039-f425-40fd-a25d-f2829cd74054', 'cover': None, 'icon': None, 'created_time': '2023-12-20T06:53:00.000Z', 'created_by': {'object': 'user', 'id': 'e6c5f954-a48a-4454-8593-aa028986b2df'}, 'last_edited_by': {'object': 'user', 'id': 'e6c5f954-a48a-4454-8593-aa028986b2df'}, 'last_edited_time': '2023-12-20T06:55:00.000Z', 'title': [{'type': 'text', 'text': {'content': 'Zoom_monitor', 'link': None}, 'annotations': {'bold': False, 'italic': False, 'strikethrough': False, 'underline': False, 'code': False, 'color': 'default'}, 'plain_text': 'Zoom_monitor', 'href': None}], 'description': [], 'is_inline': False, 'properties': {'time_stamp': {'id': 'title', 'name': 'time_stamp', 'type': 'title', 'title': {}}}, 'parent': {'type': 'workspace', 'workspace': True}, 'url': 'https://www.notion.so/f54f4039f42540fda25df2829cd74054', 'public_url': None, 'archived': False, 'request_id': 'ad83344c-b0f2-44d1-bb78-ad9a8c4bb08f'}\n",
      "{\n",
      "  \"object\": \"database\",\n",
      "  \"id\": \"f54f4039-f425-40fd-a25d-f2829cd74054\",\n",
      "  \"cover\": null,\n",
      "  \"icon\": null,\n",
      "  \"created_time\": \"2023-12-20T06:53:00.000Z\",\n",
      "  \"created_by\": {\n",
      "    \"object\": \"user\",\n",
      "    \"id\": \"e6c5f954-a48a-4454-8593-aa028986b2df\"\n",
      "  },\n",
      "  \"last_edited_by\": {\n",
      "    \"object\": \"user\",\n",
      "    \"id\": \"e6c5f954-a48a-4454-8593-aa028986b2df\"\n",
      "  },\n",
      "  \"last_edited_time\": \"2023-12-20T06:55:00.000Z\",\n",
      "  \"title\": [\n",
      "    {\n",
      "      \"type\": \"text\",\n",
      "      \"text\": {\n",
      "        \"content\": \"Zoom_monitor\",\n",
      "        \"link\": null\n",
      "      },\n",
      "      \"annotations\": {\n",
      "        \"bold\": false,\n",
      "        \"italic\": false,\n",
      "        \"strikethrough\": false,\n",
      "        \"underline\": false,\n",
      "        \"code\": false,\n",
      "        \"color\": \"default\"\n",
      "      },\n",
      "      \"plain_text\": \"Zoom_monitor\",\n",
      "      \"href\": null\n",
      "    }\n",
      "  ],\n",
      "  \"description\": [],\n",
      "  \"is_inline\": false,\n",
      "  \"properties\": {\n",
      "    \"time_stamp\": {\n",
      "      \"id\": \"title\",\n",
      "      \"name\": \"time_stamp\",\n",
      "      \"type\": \"title\",\n",
      "      \"title\": {}\n",
      "    }\n",
      "  },\n",
      "  \"parent\": {\n",
      "    \"type\": \"workspace\",\n",
      "    \"workspace\": true\n",
      "  },\n",
      "  \"url\": \"https://www.notion.so/f54f4039f42540fda25df2829cd74054\",\n",
      "  \"public_url\": null,\n",
      "  \"archived\": false,\n",
      "  \"request_id\": \"ad83344c-b0f2-44d1-bb78-ad9a8c4bb08f\"\n",
      "}\n",
      "==================================================\n"
     ]
    }
   ],
   "source": [
    "import requests\n",
    "import json\n",
    "\n",
    "PAGE_ID = 'f54f4039f42540fda25df2829cd74054'#Step 3 の方法で取得した page ID\n",
    "KEY = 'secret_pMxaM5YGtPEsv5oMuYlp8rznFvTNpq49BsRtycAjmRf' #Step 1 で取得した secret\n",
    "\n",
    "page_url = f\"https://api.notion.com/v1/databases/{PAGE_ID}\"\n",
    "headers = {\n",
    "    \"Accept\": \"application/json\",\n",
    "    \"Notion-Version\": \"2022-06-28\",\n",
    "    \"Authorization\": \"Bearer \" + KEY\n",
    "}\n",
    "\n",
    "page_response = requests.get(page_url, headers=headers)\n",
    "page_result = page_response.json()\n",
    "format_page_result = json.dumps(page_result, indent=2, ensure_ascii=False)\n",
    "\n",
    "\n",
    "\n",
    "print(page_result)\n",
    "print(format_page_result)\n",
    "print(\"==================================================\")\n"
   ]
  }
 ],
 "metadata": {
  "kernelspec": {
   "display_name": ".venv",
   "language": "python",
   "name": "python3"
  },
  "language_info": {
   "codemirror_mode": {
    "name": "ipython",
    "version": 3
   },
   "file_extension": ".py",
   "mimetype": "text/x-python",
   "name": "python",
   "nbconvert_exporter": "python",
   "pygments_lexer": "ipython3",
   "version": "3.9.6"
  }
 },
 "nbformat": 4,
 "nbformat_minor": 2
}
