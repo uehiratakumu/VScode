{
 "cells": [
  {
   "cell_type": "code",
   "execution_count": 5,
   "metadata": {},
   "outputs": [
    {
     "name": "stdout",
     "output_type": "stream",
     "text": [
      "最後のアイテム: 2023-12-20T07:07:00.000Z\n"
     ]
    }
   ],
   "source": [
    "import requests\n",
    "from notion_client import Client\n",
    "\n",
    "# Notionの設定\n",
    "# Notionの設定\n",
    "NOTION_TOKEN = 'secret_pMxaM5YGtPEsv5oMuYlp8rznFvTNpq49BsRtycAjmRf'\n",
    "NOTION_DATABASE_ID = 'f54f4039f42540fda25df2829cd74054'\n",
    "\n",
    "# Notionクライアントの初期化\n",
    "notion = Client(auth=NOTION_TOKEN)\n",
    "\n",
    "def get_last_item_from_database():\n",
    "    # データベースからアイテムを取得\n",
    "    response = notion.databases.query(\n",
    "        database_id=NOTION_DATABASE_ID,\n",
    "        sorts=[\n",
    "            {\n",
    "                \"property\": \"time_stamp\",  # ここを適切なソート基準に変更してください\n",
    "                \"direction\": \"descending\"\n",
    "            }\n",
    "        ],\n",
    "        page_size=1  # 最後の1アイテムのみ取得\n",
    "    )\n",
    "\n",
    "    # レスポンスからアイテムを取得\n",
    "    items = response.get(\"results\", [])\n",
    "    if items:\n",
    "        return items[0]  # 最後のアイテムを返す\n",
    "    else:\n",
    "        return None  # アイテムがない場合\n",
    "\n",
    "# データベースから最後のアイテムを取得\n",
    "last_item = get_last_item_from_database()\n",
    "if last_item:\n",
    "    print(\"最後のアイテム:\", last_item[\"created_time\"])\n",
    "else:\n",
    "    print(\"データベースにアイテムがありません。\")\n"
   ]
  }
 ],
 "metadata": {
  "kernelspec": {
   "display_name": ".venv",
   "language": "python",
   "name": "python3"
  },
  "language_info": {
   "codemirror_mode": {
    "name": "ipython",
    "version": 3
   },
   "file_extension": ".py",
   "mimetype": "text/x-python",
   "name": "python",
   "nbconvert_exporter": "python",
   "pygments_lexer": "ipython3",
   "version": "3.9.6"
  }
 },
 "nbformat": 4,
 "nbformat_minor": 2
}
