{
 "cells": [
  {
   "cell_type": "code",
   "execution_count": 2,
   "metadata": {},
   "outputs": [
    {
     "name": "stdout",
     "output_type": "stream",
     "text": [
      "16\n",
      "[(13, 19, 8), (17, 26, 30), (36, 13, 28), (11, 37, 12), (28, 26, 18), (40, 11, 9), (41, 31, 9), (34, 41, 39), (11, 14, 39), (10, 41, 31), (28, 41, 10), (25, 9, 15), (34, 23, 41), (10, 10, 21), (40, 38, 24), (26, 8, 41)]\n"
     ]
    }
   ],
   "source": [
    "import numpy as np\n",
    "\n",
    "def is_inside_existing_spheres(point, centers, radius):\n",
    "    \"\"\"指定された点が既存の球の中にあるかを確認する関数\"\"\"\n",
    "    for center in centers:\n",
    "        distance = np.linalg.norm(np.array(center) - np.array(point))\n",
    "        if distance < 2 * radius:\n",
    "            return True\n",
    "    return False\n",
    "\n",
    "def find_maximum_spheres(cube_size, radius, max_iterations=10000):\n",
    "    \"\"\"指定された立方体の中に最大数の球を配置する関数\"\"\"\n",
    "    sphere_centers = []\n",
    "    \n",
    "    for _ in range(max_iterations):\n",
    "        # 立方体の中にランダムに点を配置\n",
    "        random_point = (np.random.randint(radius, cube_size - radius),\n",
    "                        np.random.randint(radius, cube_size - radius),\n",
    "                        np.random.randint(radius, cube_size - radius))\n",
    "        \n",
    "        # その点が既存の球の中にない場合、新しい球の中心として追加\n",
    "        if not is_inside_existing_spheres(random_point, sphere_centers, radius):\n",
    "            sphere_centers.append(random_point)\n",
    "    \n",
    "    return sphere_centers\n",
    "\n",
    "# 10回繰り返して、配置可能な球の数が最大のものを選択\n",
    "mesh =50\n",
    "r =8\n",
    "N = 50\n",
    "num_centers = []\n",
    "best_centers = []\n",
    "best_count = 0\n",
    "for _ in range(N):\n",
    "    current_centers = find_maximum_spheres(mesh,r)\n",
    "    if len(current_centers) > best_count:\n",
    "        best_count = len(current_centers)\n",
    "        best_centers = current_centers\n",
    "    num_centers.append(len(best_centers))\n",
    "print(len(best_centers))\n",
    "print(best_centers)\n"
   ]
  },
  {
   "cell_type": "code",
   "execution_count": 3,
   "metadata": {},
   "outputs": [
    {
     "data": {
      "text/plain": [
       "[13,\n",
       " 14,\n",
       " 14,\n",
       " 15,\n",
       " 15,\n",
       " 15,\n",
       " 15,\n",
       " 15,\n",
       " 15,\n",
       " 15,\n",
       " 15,\n",
       " 15,\n",
       " 16,\n",
       " 16,\n",
       " 16,\n",
       " 16,\n",
       " 16,\n",
       " 16,\n",
       " 16,\n",
       " 16,\n",
       " 16,\n",
       " 16,\n",
       " 16,\n",
       " 16,\n",
       " 16,\n",
       " 16,\n",
       " 16,\n",
       " 16,\n",
       " 16,\n",
       " 16,\n",
       " 16,\n",
       " 16,\n",
       " 16,\n",
       " 16,\n",
       " 16,\n",
       " 16,\n",
       " 16,\n",
       " 16,\n",
       " 16,\n",
       " 16,\n",
       " 16,\n",
       " 16,\n",
       " 16,\n",
       " 16,\n",
       " 16,\n",
       " 16,\n",
       " 16,\n",
       " 16,\n",
       " 16,\n",
       " 16]"
      ]
     },
     "execution_count": 3,
     "metadata": {},
     "output_type": "execute_result"
    }
   ],
   "source": [
    "num_centers"
   ]
  },
  {
   "cell_type": "code",
   "execution_count": 5,
   "metadata": {},
   "outputs": [
    {
     "data": {
      "text/plain": [
       "[<matplotlib.lines.Line2D at 0x7fbe618bd9d0>]"
      ]
     },
     "execution_count": 5,
     "metadata": {},
     "output_type": "execute_result"
    },
    {
     "data": {
      "image/png": "[encoded data removed]",
      "text/plain": [
       "<Figure size 640x480 with 1 Axes>"
      ]
     },
     "metadata": {},
     "output_type": "display_data"
    }
   ],
   "source": [
    "import matplotlib.pyplot as plt\n",
    "x = []\n",
    "for i in range(len(num_centers)):\n",
    "    x.append(i)\n",
    "y = num_centers\n",
    "plt.plot(x,y)"
   ]
  }
 ],
 "metadata": {
  "kernelspec": {
   "display_name": ".venv",
   "language": "python",
   "name": "python3"
  },
  "language_info": {
   "codemirror_mode": {
    "name": "ipython",
    "version": 3
   },
   "file_extension": ".py",
   "mimetype": "text/x-python",
   "name": "python",
   "nbconvert_exporter": "python",
   "pygments_lexer": "ipython3",
   "version": "3.9.6"
  },
  "orig_nbformat": 4
 },
 "nbformat": 4,
 "nbformat_minor": 2
}
